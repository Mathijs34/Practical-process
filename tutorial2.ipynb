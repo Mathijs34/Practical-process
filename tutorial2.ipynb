{
 "cells": [
  {
   "cell_type": "markdown",
   "metadata": {
    "id": "aJLL268wW3Kf"
   },
   "source": [
    "## Programming cheatsheet and exercises\n",
    "\n",
    "The goal of these exercises is to teach you the use of _Python 3_ in the context of _Modelling and data analysis of chemical processes_. These programming lessons do not require prior programming experience. If you do have experience with programming in Python then you may find some exercises rather easy, so consider them as a refresher."
   ]
  },
  {
   "cell_type": "markdown",
   "metadata": {
    "id": "c-vaLLY_W905"
   },
   "source": [
    "## Introduction to This Template Notebook\n",
    "\n",
    "**How to use?**:\n",
    "* Run the code cell by putting the cursor there and pressing **Control-Enter**.\n",
    "\n",
    "* The locations where you should write your solutions can be recognized by the following comment.\n",
    "\n",
    "* Double-clicking markdown cells will reveal their content. Press **Control-Enter** to make the cells user-friendly again. \n",
    "\n",
    "><code  style=\"background-color: #f5f5f5; padding: 1px; font-family: monospace;\"># WRITE YOUR CODE HERE</code>\n",
    "\n",
    "**Make sure to clear your variables using <code  style=\"background-color: #f5f5f5; padding: 1px; font-family: monospace;\">%reset -f</code> when you are done with an exercise and run it from top to bottom**\n",
    "\n",
    "<hr style=\"border:2px solid #eee\">"
   ]
  },
  {
   "cell_type": "markdown",
   "metadata": {
    "id": "GLwxtT-GXEKv"
   },
   "source": [
    "## Learning Objectives\n",
    "\n",
    "After this lesson, you should\n",
    "\n",
    "1. Learn how to perform curve fitting using <code  style=\"background-color: #f5f5f5; padding: 1px; font-family: monospace;\"><a href=\"https://numpy.org/doc/stable/reference/generated/numpy.polyfit.html\" title=\"numpy.polyfit(x, y, deg, rcond=None, full=False, w=None, cov=False)\">numpy.polyfit</a></code>\n",
    "1. Learn how to perform curve fitting using <code  style=\"background-color: #f5f5f5; padding: 1px; font-family: monospace;\"><a href=\"https://docs.scipy.org/doc/scipy/reference/generated/scipy.optimize.curve_fit.html\" title=\"scipy.optimize.curve_fit(f, xdata, ydata, p0=None, sigma=None, absolute_sigma=False, check_finite=None, bounds=(-inf, inf), method=None, jac=None, *, full_output=False, nan_policy=None, **kwargs)\">scipy.optimize.curve_fit</a></code>\n",
    "1. Learn how to perform numerical integration using <code  style=\"background-color: #f5f5f5; padding: 1px; font-family: monospace;\"><a href=\"https://numpy.org/doc/stable/reference/generated/numpy.trapz.html\" title=\"numpy.trapz(y, x=None, dx=1.0, axis=-1)\">numpy.trapz</a></code>\n",
    "1. Learn how to integrate ordinary differential equations using <code  style=\"background-color: #f5f5f5; padding: 1px; font-family: monospace;\"><a href=\"https://docs.scipy.org/doc/scipy/reference/generated/scipy.integrate.odeint.html\" title=\"scipy.integrate.odeint(func, y0, t, args=(), Dfun=None, col_deriv=0, full_output=0, ml=None, mu=None, rtol=None, atol=None, tcrit=None, h0=0.0, hmax=0.0, hmin=0.0, ixpr=0, mxstep=0, mxhnil=0, mxordn=12, mxords=5, printmessg=0, tfirst=False)\">scipy.integrate.odeint</a></code>\n",
    "1. Learn how to load and visualize experimental data using <code  style=\"background-color: #f5f5f5; padding: 1px; font-family: monospace;\"><a href=\"https://pandas.pydata.org/\" title=\"Pandas Documentation\">pandas</a></code>\n",
    "1. Learn how to combine numerical integration and curve fitting to model a real system"
   ]
  },
  {
   "cell_type": "markdown",
   "metadata": {
    "id": "25shdC17Xn3Y"
   },
   "source": [
    "## 1. Curve fitting using <code  style=\"background-color: #f5f5f5; padding: 1px; font-family: monospace;\"><a href=\"https://numpy.org/doc/stable/reference/generated/numpy.polyfit.html\" title=\"numpy.polyfit(x, y, deg, rcond=None, full=False, w=None, cov=False)\">numpy.polyfit</a></code>\n",
    "\n",
    "As the name suggests <code  style=\"background-color: #f5f5f5; padding: 1px; font-family: monospace;\"><a href=\"https://numpy.org/doc/stable/reference/generated/numpy.polyfit.html\" title=\"numpy.polyfit(x, y, deg, rcond=None, full=False, w=None, cov=False)\">numpy.polyfit</a></code> is able to fit polynomials of arbitrary degrees with ease. The example below is self explanatory:"
   ]
  },
  {
   "cell_type": "code",
   "execution_count": 1,
   "metadata": {
    "colab": {
     "base_uri": "https://localhost:8080/",
     "height": 485
    },
    "execution": {
     "iopub.execute_input": "2023-09-04T08:18:12.909948Z",
     "iopub.status.busy": "2023-09-04T08:18:12.909469Z",
     "iopub.status.idle": "2023-09-04T08:18:14.394024Z",
     "shell.execute_reply": "2023-09-04T08:18:14.392627Z"
    },
    "executionInfo": {
     "elapsed": 813,
     "status": "ok",
     "timestamp": 1690556444594,
     "user": {
      "displayName": "p479h",
      "userId": "12658626037121552609"
     },
     "user_tz": -120
    },
    "id": "xH2PcAHXYjAl",
    "outputId": "15532b73-ec41-4107-a6aa-cd27ea67111c"
   },
   "outputs": [],
   "source": [
    "import numpy as np\n",
    "import matplotlib.pyplot as plt\n",
    "\n",
    "# Ensuring reproducibility\n",
    "np.random.seed(0)\n",
    "\n",
    "# Generating some fake data with a second-degree polynomial and noise\n",
    "x = np.linspace(0, 5, 500)\n",
    "a, b, c = 0.4, 0.4, 5\n",
    "noise = (np.random.rand(len(x)) - 0.5)  # Noise around 0\n",
    "y = a * x**2 + b * x + c + noise  # Second degree polynomial with noise\n",
    "\n",
    "# Fitting the result with polyfit\n",
    "a_fit, b_fit, c_fit = np.polyfit(x, y, deg=2)\n",
    "\n",
    "# Print the results with 4 decimal places accuracy\n",
    "print(\"Original Coefficients: a={:.4f}, b={:.4f}, c={:.4f}\".format(a, b, c))\n",
    "print(\"Fitted Coefficients:   a={:.4f}, b={:.4f}, c={:.4f}\".format(a_fit, b_fit, c_fit))\n",
    "\n",
    "# Visualizing the original line and the curve fit\n",
    "plt.figure(figsize=(4,4))\n",
    "plt.plot(x, y, \"o\", mfc=\"none\", label=\"data\")\n",
    "plt.plot(x, np.polyval((a_fit, b_fit, c_fit),x), \"-\", label=\"fit\")\n",
    "plt.xlabel(\"x\")\n",
    "plt.ylabel(\"y(x)\")\n",
    "plt.legend()\n",
    "plt.grid()\n",
    "plt.show()"
   ]
  },
  {
   "cell_type": "markdown",
   "metadata": {
    "id": "VZtzUTGQfX4R"
   },
   "source": [
    "## Exercise 1\n",
    "\n",
    "**Create data for a fourth order polynomial, fit it using <code  style=\"background-color: #f5f5f5; padding: 1px; font-family: monospace;\"><a href=\"https://numpy.org/doc/stable/reference/generated/numpy.polyfit.html\" title=\"numpy.polyfit(x, y, deg, rcond=None, full=False, w=None, cov=False)\">numpy.polyfit</a></code> and plot the results to compare the fit with the data.**\n",
    "\n",
    "<b style=\"font-weight: 610;\">a) </b>Start by importing the necessary libraries."
   ]
  },
  {
   "cell_type": "code",
   "execution_count": 2,
   "metadata": {
    "execution": {
     "iopub.execute_input": "2023-09-04T08:18:14.397943Z",
     "iopub.status.busy": "2023-09-04T08:18:14.397349Z",
     "iopub.status.idle": "2023-09-04T08:18:14.401076Z",
     "shell.execute_reply": "2023-09-04T08:18:14.400364Z"
    },
    "id": "SLPiF8o0mGiO"
   },
   "outputs": [],
   "source": [
    "# WRITE YOUR CODE HERE"
   ]
  },
  {
   "cell_type": "markdown",
   "metadata": {
    "id": "n1JJ5T58mF75"
   },
   "source": [
    "<b style=\"font-weight: 610;\">b) </b>Generate the data for a polynomial of degree 2 and add some noise to it.\n",
    "\n",
    "<div class=\"alert alert-block alert-info\" style=\"background-color: #D6FFFF; border-width: 0px;\">\n",
    "<b>Hint:</b> You can make noise using <code  style=\"background-color: #f5f5f5; padding: 1px; font-family: monospace;\"><a href=\"https://numpy.org/doc/stable/reference/random/generated/numpy.random.rand.html\" title=\"random.rand(d0, d1, ..., dn)\">np.random.rand</a></code> and <code  style=\"background-color: #f5f5f5; padding: 1px; font-family: monospace;\">x</code> values using <code  style=\"background-color: #f5f5f5; padding: 1px; font-family: monospace;\"><a href=\"https://numpy.org/doc/stable/reference/generated/numpy.linspace.html\" title=\"numpy.linspace(start, stop, num=50, endpoint=True, retstep=False, dtype=None, axis=0)\">np.linspace</a></code>.\n",
    "</div>"
   ]
  },
  {
   "cell_type": "code",
   "execution_count": 3,
   "metadata": {
    "execution": {
     "iopub.execute_input": "2023-09-04T08:18:14.405094Z",
     "iopub.status.busy": "2023-09-04T08:18:14.404585Z",
     "iopub.status.idle": "2023-09-04T08:18:14.411746Z",
     "shell.execute_reply": "2023-09-04T08:18:14.410013Z"
    },
    "id": "jbjvLZLtmiUb"
   },
   "outputs": [],
   "source": [
    "# Ensuring reproducibility\n",
    "np.random.seed(0)\n",
    "\n",
    "# Makign the data\n",
    "# WRITE YOUR CODE HERE"
   ]
  },
  {
   "cell_type": "markdown",
   "metadata": {},
   "source": [
    "<details ><summary  style=\"margin: 0px 0px; color: #3498db; font-size: 13pt;\">Expected solution</summary><div  style=\"background-color: #c7ffec; padding: 5px; font-family: monospace; font-size: 10pt; overflow: auto; border-width: 0px; margin: 5px 0px 5px 0px; white-space: pre-wrap;\"class=\"alert alert-block alert-success\"><code  style=\"background-color: #f5f5f5; padding: 1px; font-family: monospace;\">x.shape</code> = (200,)\n",
    "<code  style=\"background-color: #f5f5f5; padding: 1px; font-family: monospace;\">y.shape</code> = (200,)</div></details>"
   ]
  },
  {
   "cell_type": "markdown",
   "metadata": {
    "id": "l5UQBpramtAz"
   },
   "source": [
    "<b style=\"font-weight: 610;\">c) </b>Perform the fit to find the polynomial coefficients.\n",
    "\n",
    "<div class=\"alert alert-block alert-info\" style=\"background-color: #D6FFFF; border-width: 0px;\">\n",
    "<b>Hint:</b> <code  style=\"background-color: #f5f5f5; padding: 1px; font-family: monospace;\"><a href=\"https://numpy.org/doc/stable/reference/generated/numpy.polyfit.html\" title=\"numpy.polyfit(x, y, deg, rcond=None, full=False, w=None, cov=False)\">np.polyfit</a></code> returns the coefficients <code  style=\"background-color: #f5f5f5; padding: 1px; font-family: monospace;\">p</code> in the order <code  style=\"background-color: #f5f5f5; padding: 1px; font-family: monospace;\">p(x) = p[0] * x**deg + ... + p[deg]</code>.\n",
    "</div>"
   ]
  },
  {
   "cell_type": "code",
   "execution_count": 4,
   "metadata": {
    "execution": {
     "iopub.execute_input": "2023-09-04T08:18:14.415249Z",
     "iopub.status.busy": "2023-09-04T08:18:14.414764Z",
     "iopub.status.idle": "2023-09-04T08:18:14.440055Z",
     "shell.execute_reply": "2023-09-04T08:18:14.439326Z"
    },
    "id": "bHxoxinGnHcl"
   },
   "outputs": [],
   "source": [
    "# Performing the fit\n",
    "# WRITE YOUR CODE HERE"
   ]
  },
  {
   "cell_type": "markdown",
   "metadata": {},
   "source": [
    "<details ><summary  style=\"margin: 0px 0px; color: #3498db; font-size: 13pt;\">Expected solution</summary><div  style=\"background-color: #c7ffec; padding: 5px; font-family: monospace; font-size: 10pt; overflow: auto; border-width: 0px; margin: 5px 0px 5px 0px; white-space: pre-wrap;\"class=\"alert alert-block alert-success\"><code  style=\"background-color: #f5f5f5; padding: 1px; font-family: monospace;\">afit</code> $\\approx$ 10\n",
    "<code  style=\"background-color: #f5f5f5; padding: 1px; font-family: monospace;\">bfit</code> $\\approx$ 2\n",
    "<code  style=\"background-color: #f5f5f5; padding: 1px; font-family: monospace;\">cfit</code> $\\approx$ 3\n",
    "<code  style=\"background-color: #f5f5f5; padding: 1px; font-family: monospace;\">dfit</code> $\\approx$ 4</div></details>"
   ]
  },
  {
   "cell_type": "markdown",
   "metadata": {
    "id": "cAZ6sf7Am6Kz"
   },
   "source": [
    "<b style=\"font-weight: 610;\">d) </b>Plot the results to check if the fit was successful.\n",
    "\n",
    "<div class=\"alert alert-block alert-info\" style=\"background-color: #D6FFFF; border-width: 0px;\">\n",
    "<b>Tip:</b> <code  style=\"background-color: #f5f5f5; padding: 1px; font-family: monospace;\"><a href=\"https://numpy.org/doc/stable/reference/generated/numpy.polyval.html\" title=\"numpy.polyval(p, x)\">np.polyval</a></code> is a very useful function for evaluating polynomials with arbitrary coefficients.\n",
    "</div>"
   ]
  },
  {
   "cell_type": "code",
   "execution_count": 5,
   "metadata": {
    "colab": {
     "base_uri": "https://localhost:8080/",
     "height": 449
    },
    "execution": {
     "iopub.execute_input": "2023-09-04T08:18:14.444123Z",
     "iopub.status.busy": "2023-09-04T08:18:14.443616Z",
     "iopub.status.idle": "2023-09-04T08:18:14.778029Z",
     "shell.execute_reply": "2023-09-04T08:18:14.777443Z"
    },
    "executionInfo": {
     "elapsed": 514,
     "status": "ok",
     "timestamp": 1690556445092,
     "user": {
      "displayName": "p479h",
      "userId": "12658626037121552609"
     },
     "user_tz": -120
    },
    "id": "L91V_6dPm9p0",
    "outputId": "82704eed-8e56-46aa-c403-5667a4722a17"
   },
   "outputs": [],
   "source": [
    "# Plotting the results for comparision\n",
    "# WRITE YOUR CODE HERE"
   ]
  },
  {
   "cell_type": "markdown",
   "metadata": {},
   "source": [
    "<details ><summary  style=\"margin: 0px 0px; color: #3498db; font-size: 13pt;\">Expected solution</summary><div  style=\"background-color: #c7ffec; padding: 5px; font-family: monospace; font-size: 10pt; overflow: auto; border-width: 0px; margin: 5px 0px 5px 0px; white-space: pre-wrap;\"class=\"alert alert-block alert-success\"><img src=\"data:image/png;base64,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\" style=\"float: left; max-height: 300px; width: auto;\"><br></div></details>"
   ]
  },
  {
   "cell_type": "markdown",
   "metadata": {
    "id": "BHHUuTJHvq7O"
   },
   "source": [
    ">Make sure to clear your variables before moving on to the next question by running the following code block"
   ]
  },
  {
   "cell_type": "code",
   "execution_count": 6,
   "metadata": {
    "execution": {
     "iopub.execute_input": "2023-09-04T08:18:14.784170Z",
     "iopub.status.busy": "2023-09-04T08:18:14.782141Z",
     "iopub.status.idle": "2023-09-04T08:18:14.963530Z",
     "shell.execute_reply": "2023-09-04T08:18:14.962046Z"
    },
    "id": "kJnYVXnpvq7Z"
   },
   "outputs": [],
   "source": [
    "%reset -f"
   ]
  },
  {
   "cell_type": "markdown",
   "metadata": {
    "id": "fok3mct2XzEm"
   },
   "source": [
    "## 2. Curve fitting using <code  style=\"background-color: #f5f5f5; padding: 1px; font-family: monospace;\">scipt.optimize.curve_fit</code>\n",
    "\n",
    "<code  style=\"background-color: #f5f5f5; padding: 1px; font-family: monospace;\"><a href=\"https://docs.scipy.org/doc/scipy/reference/generated/scipy.optimize.curve_fit.html\" title=\"scipy.optimize.curve_fit(f, xdata, ydata, p0=None, sigma=None, absolute_sigma=False, check_finite=None, bounds=(-inf, inf), method=None, jac=None, *, full_output=False, nan_policy=None, **kwargs)\">scipy.optimize.curve_fit</a></code> allows one to fit virtually any equation as long as it can be written in the form <code  style=\"background-color: #f5f5f5; padding: 1px; font-family: monospace;\">f(x, param1, param2, ...)</code> wherein <code  style=\"background-color: #f5f5f5; padding: 1px; font-family: monospace;\">param1</code>, <code  style=\"background-color: #f5f5f5; padding: 1px; font-family: monospace;\">param2</code>, etc. are optimized. For example:"
   ]
  },
  {
   "cell_type": "code",
   "execution_count": 7,
   "metadata": {
    "colab": {
     "base_uri": "https://localhost:8080/",
     "height": 485
    },
    "execution": {
     "iopub.execute_input": "2023-09-04T08:18:14.974673Z",
     "iopub.status.busy": "2023-09-04T08:18:14.971924Z",
     "iopub.status.idle": "2023-09-04T08:18:15.446656Z",
     "shell.execute_reply": "2023-09-04T08:18:15.445489Z"
    },
    "executionInfo": {
     "elapsed": 615,
     "status": "ok",
     "timestamp": 1690556445698,
     "user": {
      "displayName": "p479h",
      "userId": "12658626037121552609"
     },
     "user_tz": -120
    },
    "id": "2p3WZthPdWEi",
    "outputId": "918667bd-a5b5-430b-8021-98398f496d3f"
   },
   "outputs": [],
   "source": [
    "import numpy as np\n",
    "import matplotlib.pyplot as plt\n",
    "from scipy.optimize import curve_fit\n",
    "\n",
    "# Ensuring reproducibility\n",
    "np.random.seed(0)\n",
    "\n",
    "# Generating the function to be fitted\n",
    "def f(x, a, b, c):\n",
    "  return a/(b + np.exp(-c*x))\n",
    "\n",
    "# Generating the data\n",
    "a, b, c = 10, 2, 3 # Coefficients to be fitted\n",
    "x = np.linspace(-3, 3, 200)\n",
    "noise = np.random.rand(len(x))-0.5\n",
    "y = f(x, a, b, c) + noise\n",
    "\n",
    "# Fitting\n",
    "initial_guess = [1, 1, 1]\n",
    "fit_params, _ = curve_fit(f, x, y, p0 = initial_guess)\n",
    "\n",
    "# Unpacking the fit constants\n",
    "a_fit, b_fit, c_fit = fit_params\n",
    "\n",
    "# Print the results with 4 decimal places accuracy\n",
    "print(\"Original Coefficients: a={:.4f}, b={:.4f}, c={:.4f}\".format(a, b, c))\n",
    "print(\"Fitted Coefficients:   a={:.4f}, b={:.4f}, c={:.4f}\".format(a_fit, b_fit, c_fit))\n",
    "\n",
    "# Visualizing the fit\n",
    "plt.plot(x, y, \"o\", mfc=\"none\", label=\"data\")\n",
    "plt.plot(x, f(x, a_fit, b_fit, c_fit), \"-\", label=\"fit\")\n",
    "plt.xlabel(\"x\")\n",
    "plt.ylabel(\"y\")\n",
    "plt.legend()\n",
    "plt.grid()\n",
    "plt.show()"
   ]
  },
  {
   "cell_type": "markdown",
   "metadata": {
    "id": "cwrOXjc-fT7P"
   },
   "source": [
    "## Exercise 2\n",
    "\n",
    "**Repeat exercise 1a) using <code  style=\"background-color: #f5f5f5; padding: 1px; font-family: monospace;\"><a href=\"https://docs.scipy.org/doc/scipy/reference/generated/scipy.optimize.curve_fit.html\" title=\"scipy.optimize.curve_fit(f, xdata, ydata, p0=None, sigma=None, absolute_sigma=False, check_finite=None, bounds=(-inf, inf), method=None, jac=None, *, full_output=False, nan_policy=None, **kwargs)\">scipy.optimize.curve_fit</a></code>.**"
   ]
  },
  {
   "cell_type": "markdown",
   "metadata": {
    "id": "hLYlc_35nS9a"
   },
   "source": [
    "<b style=\"font-weight: 610;\">a) </b>Start by importing the relevant libraries."
   ]
  },
  {
   "cell_type": "code",
   "execution_count": 8,
   "metadata": {
    "execution": {
     "iopub.execute_input": "2023-09-04T08:18:15.455839Z",
     "iopub.status.busy": "2023-09-04T08:18:15.453226Z",
     "iopub.status.idle": "2023-09-04T08:18:15.464281Z",
     "shell.execute_reply": "2023-09-04T08:18:15.463096Z"
    },
    "id": "_5vXUwnsnWpi"
   },
   "outputs": [],
   "source": [
    "# WRITE YOUR CODE HERE"
   ]
  },
  {
   "cell_type": "markdown",
   "metadata": {
    "id": "51N42s4anX15"
   },
   "source": [
    "<b style=\"font-weight: 610;\">b) </b>Then generate the data for the same polynomial used in the previous question."
   ]
  },
  {
   "cell_type": "code",
   "execution_count": 9,
   "metadata": {
    "execution": {
     "iopub.execute_input": "2023-09-04T08:18:15.472732Z",
     "iopub.status.busy": "2023-09-04T08:18:15.470446Z",
     "iopub.status.idle": "2023-09-04T08:18:15.484083Z",
     "shell.execute_reply": "2023-09-04T08:18:15.483184Z"
    },
    "id": "hLudLdAInZfL"
   },
   "outputs": [],
   "source": [
    "# Ensuring reproducibility\n",
    "np.random.seed(0)\n",
    "\n",
    "# Makign the data\n",
    "# WRITE YOUR CODE HERE"
   ]
  },
  {
   "cell_type": "markdown",
   "metadata": {},
   "source": [
    "<details ><summary  style=\"margin: 0px 0px; color: #3498db; font-size: 13pt;\">Expected solution</summary><div  style=\"background-color: #c7ffec; padding: 5px; font-family: monospace; font-size: 10pt; overflow: auto; border-width: 0px; margin: 5px 0px 5px 0px; white-space: pre-wrap;\"class=\"alert alert-block alert-success\"><code  style=\"background-color: #f5f5f5; padding: 1px; font-family: monospace;\">x.shape</code> = (200,)\n",
    "<code  style=\"background-color: #f5f5f5; padding: 1px; font-family: monospace;\">y.shape</code> = (200,)</div></details>"
   ]
  },
  {
   "cell_type": "markdown",
   "metadata": {
    "id": "sIgZDtmSnZ0P"
   },
   "source": [
    "<b style=\"font-weight: 610;\">c) </b>Perform the fit."
   ]
  },
  {
   "cell_type": "code",
   "execution_count": 10,
   "metadata": {
    "execution": {
     "iopub.execute_input": "2023-09-04T08:18:15.491388Z",
     "iopub.status.busy": "2023-09-04T08:18:15.489291Z",
     "iopub.status.idle": "2023-09-04T08:18:15.505922Z",
     "shell.execute_reply": "2023-09-04T08:18:15.503838Z"
    },
    "id": "xeGYy13yncDL"
   },
   "outputs": [],
   "source": [
    "# Performing the fit\n",
    "# WRITE YOUR CODE HERE"
   ]
  },
  {
   "cell_type": "markdown",
   "metadata": {},
   "source": [
    "<details ><summary  style=\"margin: 0px 0px; color: #3498db; font-size: 13pt;\">Expected solution</summary><div  style=\"background-color: #c7ffec; padding: 5px; font-family: monospace; font-size: 10pt; overflow: auto; border-width: 0px; margin: 5px 0px 5px 0px; white-space: pre-wrap;\"class=\"alert alert-block alert-success\"><code  style=\"background-color: #f5f5f5; padding: 1px; font-family: monospace;\">afit</code> $\\approx$ 10\n",
    "<code  style=\"background-color: #f5f5f5; padding: 1px; font-family: monospace;\">bfit</code> $\\approx$ 2\n",
    "<code  style=\"background-color: #f5f5f5; padding: 1px; font-family: monospace;\">cfit</code> $\\approx$ 3</div></details>"
   ]
  },
  {
   "cell_type": "markdown",
   "metadata": {
    "id": "FnT8JmjOncZb"
   },
   "source": [
    "<b style=\"font-weight: 610;\">d) </b>Plot the results to confirm if the fit was sucessful"
   ]
  },
  {
   "cell_type": "code",
   "execution_count": 11,
   "metadata": {
    "colab": {
     "base_uri": "https://localhost:8080/",
     "height": 449
    },
    "execution": {
     "iopub.execute_input": "2023-09-04T08:18:15.514298Z",
     "iopub.status.busy": "2023-09-04T08:18:15.511868Z",
     "iopub.status.idle": "2023-09-04T08:18:15.844869Z",
     "shell.execute_reply": "2023-09-04T08:18:15.843537Z"
    },
    "executionInfo": {
     "elapsed": 388,
     "status": "ok",
     "timestamp": 1690556446074,
     "user": {
      "displayName": "p479h",
      "userId": "12658626037121552609"
     },
     "user_tz": -120
    },
    "id": "5hY_k95XmlcJ",
    "outputId": "5813b359-558c-4ebd-d258-ab706e6006f9"
   },
   "outputs": [],
   "source": [
    "# Plotting the results for comparision\n",
    "# WRITE YOUR CODE HERE"
   ]
  },
  {
   "cell_type": "markdown",
   "metadata": {},
   "source": [
    "<details ><summary  style=\"margin: 0px 0px; color: #3498db; font-size: 13pt;\">Expected solution</summary><div  style=\"background-color: #c7ffec; padding: 5px; font-family: monospace; font-size: 10pt; overflow: auto; border-width: 0px; margin: 5px 0px 5px 0px; white-space: pre-wrap;\"class=\"alert alert-block alert-success\"><img src=\"data:image/png;base64,iVBORw0KGgoAAAANSUhEUgAAAYYAAAGGCAYAAAB/gCblAAAAOXRFWHRTb2Z0d2FyZQBNYXRwbG90bGliIHZlcnNpb24zLjcuMSwgaHR0cHM6Ly9tYXRwbG90bGliLm9yZy/bCgiHAAAACXBIWXMAAA9hAAAPYQGoP6dpAAB4RUlEQVR4nO3dd3iT5frA8e+bNOnepYsWWqBQoOwlQ9nIEiceBRWPk6UHOUePOMGj4PohKopbUcEtQ0Fs2QrIXi0bWuikk+42afL+/ggJLUMp0iZp7891nevY5E16t6S58zz389yPoqqqihBCCHGWxt4BCCGEcCySGIQQQtQgiUEIIUQNkhiEEELUIIlBCCFEDZIYhBBC1CCJQQghRA2SGIQQQtTgYu8AHIHZbCYjIwNvb28URbF3OEIIcdWpqkpxcTHh4eFoNH8+JpDEAGRkZBAZGWnvMIQQos6lpqYSERHxp9dIYgC8vb0Byy/Mx8fnsh9nNBqJj49n2LBh6HS6ugqvzjhz/M4cO0j89uTMscOVx19UVERkZKTt/e7PSGIA2/SRj49PrRODh4cHPj4+TvsCc9b4nTl2kPjtyZljh78f/+VMl0vxWQghRA2SGIQQQtQgiUEIIUQNkhiEEELUYNfEsHHjRm644QbCw8NRFIWlS5fWuF9VVWbOnEl4eDju7u4MGDCApKSkGtdUVlbyyCOPEBQUhKenJ2PGjCEtLa0efwohhGhY7JoYSktL6dSpE/Pnz7/o/a+++ipz585l/vz5bN++ndDQUIYOHUpxcbHtmmnTprFkyRK+/vprfv/9d0pKShg9ejQmk6m+fgwhhGhQ7LpcdcSIEYwYMeKi96mqyrx583j66ae55ZZbAFi4cCEhISEsXryYhx9+mMLCQj7++GO++OILhgwZAsCXX35JZGQkq1ev5vrrr6+3n0UIIRoKh60xJCcnk5WVxbBhw2y3ubq60r9/fzZv3gzAzp07MRqNNa4JDw8nLi7Odo0QQjQUJrPK1uR8duYqbE3Ox2RW6+T7OOwGt6ysLABCQkJq3B4SEsLJkydt1+j1evz9/S+4xvr4i6msrKSystL2dVFREWDZOGI0Gi87Ruu1tXmMI3Hm+J05dpD47clZY/816TQvrzpM2pkKQMvnR3cQ4efGk8PbcH37kL98fG1+XodNDFbn79JTVfUvd+791TVz5sxh1qxZF9weHx+Ph4dHrWNMSEio9WMciTPH78yxg8RvT84U+948hU+PaGjvrzI2zkyYB2SWQUJ6GY98vYd/tjbTKfDPRw9lZWWX/f0cNjGEhoYCllFBWFiY7fbs7GzbKCI0NBSDwUBBQUGNUUN2djZ9+vS55HPPmDGD6dOn27629hAZNmxYrVtiJCQkMHToUKfdWu+s8Ttz7CDx25OzxW4yq7z2xm8MbOPNgrGtUVN+Z82REh68ZQwTtS5MWryH+OwSnhjfD63m0h+IrTMjl8NhE0N0dDShoaEkJCTQpUsXAAwGAxs2bOCVV14BoFu3buh0OhISErj99tsByMzMJDExkVdfffWSz+3q6oqrq+sFt+t0uit6oVzp4xyFM8fvzLGDxG9PzhL7juN5pJ2p4K1xXXE9vRu+H88AfRN0N9yKTqdjyqAYbl2wmd1pxfRuGXjJ56nNz2rXxFBSUsKxY8dsXycnJ7Nnzx4CAgJo1qwZ06ZNY/bs2cTExBATE8Ps2bPx8PBg3LhxAPj6+nL//ffz73//m8DAQAICAvjPf/5Dhw4dbKuUhBDCmWUXVwDQJsQbfv8dgHzP1oSevb9NqHeN664GuyaGHTt2MHDgQNvX1umdCRMm8Nlnn/HEE09QXl7O5MmTKSgooFevXsTHx9doG/vGG2/g4uLC7bffTnl5OYMHD+azzz5Dq9XW+88jhBBXW7C3GwCHTxfTNeU3AHK9Y22J4XBWcY3rrga7JoYBAwagqpcumCiKwsyZM5k5c+Ylr3Fzc+Ptt9/m7bffroMIhRDCvnpGBxDh785rP+1mUe5ONEC2Z1sAzGaVBeuPERngTs/ogKv2PR22xiCEEAISDmRRbjChTd+JRl9FmhrEk0mh/DPwBPvSi1hzKJsF47v+aeG5tiQxCCGEg1qVmMmkRbsYHBvMJNNpOAVbzW0pMGqYu/oYQV56FozvyvC4sL9+slpw2J3PQgjRmJnMKi+uOMjg2GA+uLs73cyJAHToM5K7W5noEumLm07D0Hahf/FMtSeJQQghHNC25HzSCsqZPLAVGmMJZOwCILrHcLo3UZkxvA1pBRVsS86/6t9bEoMQQjgg6/LTVk28OLg1HsxVVHhFYvKOACAmxKvGdVeTJAYhhHBA1uWng+duYGP8DwAsPdOSIW/8xt48haOnS2pcdzVJ8VkIIRxQQaml0aeqqtwVchLyoNfgm4lP8eaTw+VsKzl01ZepWsmIQQghHIzJrDL7l0N0bOpDVWk+7nmWkyuDOw7hoWuj8NZBYkYRM4a3varLVK1kxCCEEA7GWnh+684ucDAFzRaVo+amDH1tLwA+Z9se+Xvq6+T7S2IQQggHU70/kmfifgC8YwfyZrvOBHq4kLr/D2Zsd6mTwjPIVJIQQjgca0H5h51pFB1cA0CTTkO5sXNTekUHcLq85nVXmyQGIYRwMAWllWg1Cm8t34xPsaUD9Q0/WXZCm80qq9M1RPjXTeEZZCpJCCEcyqrETKZ8tZsO4T40z9wEQIFPLMF+YUz8chdx4T4kFSi8fUfrOik8g4wYhBDCYVRvg7F0Sj+eaHMagO/zW7D+SC4AB7OKube1+bLOeb5SkhiEEMJBWFcjTezfkq3J+fhnbwWg75CbefOOzswa0x6TWcWzjud6JDEIIYSDsK4yevTr3fz7w5/xKj1Flaph2h8euLpouLWbpR1GkbFu45DEIIQQDiIltxSApn7uLB5qAKAyuCPNwkKYtGgXn29OBs7tY6grkhiEEMIBmMwq3+5IxU2nwcdNR/PCHQB4thnEB3d3Z1CbJry19hgR/u609Ln0yZdXgyQGIYRwANuS80k/U8Gjg2JYe/g0BUmW/QvlEX3ZnXqGwvIqKoxmbu0STh0tRrKR5apCCOEArPWFu65pjkfJKQJ25mBQtXT5rIgKNhPh7w5A80APSKvbWGTEIIQQDqB6m+3Df/wMwG41Bg9PLx4bEsPc2zufvc61zmORxCCEEA6gepvtx1tb9i9EdhtO12b+vLH6KC/+fIDIAHe6N/ev81gkMQghhJ1Vb7OdV1qJy8nfAfBrP4SJ/VsS5KVnX3phnbXZPp/UGIQQws6qt9kuS92HT8IZylU9nT7Kx8gW2/RRXbXZPp8kBiGEsDNr4bmwzEhQ1hYAKsJ78nqv7gR7u9Eu3IdOs+LPXudT5/HIVJIQQtiZdWPbPz/bTtaeXwH4OicaVxcNvVsGciy77s53vhhJDEIIYUerEjN5Y/VR3HQaejX3Zoj7EQBygvswadEuVu7PYMH6Y3V2vvPFSGIQQgg7sXZTHdI2mLljO2NK3YFiKKHK1Z9pd91Kt2b+TP92L2sOZfP0yPopPIPUGIQQwm6qF527NvMn5lAeHIBVZW2Y+sJq23WPDWnN8LiweotLRgxXyGRW2Zqcz85cha3J+ZjMddu7RAjR8FQ/2xkgptjSH6lt3zG8eUdnPrm3BwBRQR71GpeMGK7AqsRMXlxxkLSCckDL50d3EOHvzjOj2tZrVhdCODdrMfnw6WK6BmshbTsALXuNpqV/U3aeLKhxXX2REUMtrUrMZNKiXcSGevPtQz15tWcV3z7Uk9hQbyYt2sWqxEx7hyiEcBI9owOI8Hfn3XXHMCf/DqoJ/KPBvzlms1rvRWcrSQy1UP3YvQ/u6kpX5QgdcpbRpak3H9zdncGxwby08qBMKwkhLotWo/DMqLasOZTNyuVfA5AWcA3bU/J56Isd9V50tpKppFqoXijSoKJ8cydtKwrZs/MOTnq059qYJqw+mM225Hx6twy0d7hCCCcR4KGnTekO0MCLB0NYlbSFIC89C8Z3tcv0tIwYaqFGoUjrQpa/pTC0esW3/OvrPTy/PAmAhANZdotRCOE8rFPTA8OriNGko6LQ+bob6NrMj9wSg93iksRQC9ULRasSM3n7VHMAHopIIWnW9cy5uQMAn25KkVqDEOJPVZ+afrVrPgBKeBcmDu/O9xP7MKSt/aamJTHUgrVQ9M7ao7y44iBVzfsD4J2zG3dzGWsOnSbC341BUmsQQvwF69T05IGt0CRvsNzYciAAGo3CpAGtSM0vZ1tyfr3HJomhFs4VinJIKyinY1xHivXBKOYq3vnsM9YcyuaZUe2YPNB+/6BCCOdga5xXaqDisOUYT1P0ANv9bUK9a1xXnyQx1NLwuDDu7xsFwDPLD7C0rCMA4XlbbIUie/6DCiGcg7Vx3pzPl+BWmUuZ6sqQb8tt09CHs4qB+t/DAJIYrsiQdqEAzBwdizakPQAjPA5RWWVmy/E8DmQUAfb5BxVCOL7qjfPGBR0HwBhxDS3DAuzWOK86Wa56Bay1ho1H82jt3o4qNHgUneDVrxNIpwluOg2BXnq7/IMKIRxb9cZ5t3SJwO27l0ELReH9mDuoM/d9tp3p3+6lssrMgvFd630PA8iI4YpYaw1rD+fw3jEvjunaAPBZ/1J6RPlTYTSTX2KQZatCiAtULzqPbBfIdXpLm+0Hf/em46x4dpwsoMJoZtrg+m2cV50khis0tF0ogZ56dBr4pawdAIc3LyerqIJ3x3dhsB2XmgkhHJe19tiqiReJ29bgYirD4BbIs/fdatfGedVJYrhC25LzySs1MLmtiUEjxwJwvfsh1k+/jpEdwu261EwI4bistcfBczewdqWlDcbK0jb898dEXF00+LrralxnD1JjuELWrN/UE9p1HwAbfdBVnoHTe6FpN1mZJIS4qILSSgBUVeW+sJOQA53730RsujcTv9xFx6a+dis6W8mI4QpZs3lmGaBxQY2+DoCDvy+VlUlCiIsymVVm/3KIjk19MJQW4JGzF4AmnYYzsX9Lgrz07EsvZMbw+m+cV52MGK5Qz+gAIvzcSEgvo0ViFoePN+U/QGFSAnfuvkZWJgkhLlC9Eady8ASaLWaOm8MY/H+JAAR7uwLg76m3Z5gyYrhSWo3Ck8PbkFig8Mg3+0j26QlAT5djXNvMVVYmCSEuYNvtXGbEP/M3ANzbXc+bd3TmqwevIWF6/xrX2Yskhr9hSNtgvFzAzUXDinR3TpqD0ZiNhBfulJVJQogLWHc7//OzbbgkrwNg7okIXF009G4ZyLHsEsD+U9CSGP6GHScLKKlS+Ozebnz14DWYWwwAYE6nPFmZJISoofpu5zERpUQouZi1esrCrnGI3c7VSY3hb8gutqwuiA31xs/LHSpvgJRvqTi0moTwdLzddGevk5VJQjRm5+923vHtS+ACJSG9ePmOa8h2gN3O1Tn0iKGqqopnnnmG6Oho3N3dadGiBS+88AJms9l2jaqqzJw5k/DwcNzd3RkwYABJSUn1Ep+1UHTk7PBvdUUbTGjwKDrOK1+v5r7PLAd7p+SW1Us8QgjHZC06T+zfEn9PPeMCLLud3zzZzGF2O1fn0InhlVde4b333mP+/PkcPHiQV199lddee423337bds2rr77K3LlzmT9/Ptu3byc0NJShQ4dSXFxc5/F1b+5PgKvKexuSWbkvkwe/O0ayaywAa28y0yPKHzedhnlrjsjBPUI0YtZZg0e/3s29H24konAXAPvdunN/3yiH2O1cnUMnhi1btnDjjTcyatQooqKiuO222xg2bBg7duwALKOFefPm8fTTT3PLLbcQFxfHwoULKSsrY/HixXUen1ajcFNzM2sP5zD9uz10a+ZPZLeRAOz7bSk7ThYw9/ZODJaDe4Ro1KxF56Z+7vw8RsFNMWLwDMMnMo5PNqdwKLMQsH/R2cqhawz9+vXjvffe48iRI7Ru3Zq9e/fy+++/M2/ePACSk5PJyspi2LBhtse4urrSv39/Nm/ezMMPP3zR562srKSystL2dVGRZTOa0WjEaDRednxGo5FOgSpT+0cxf0MKO04WMO6UJz+4QpvSHbx9+1sMjW1CkIeO2z/cxpZj2fRyoH0N1p+1Nj+zo3Dm2EHit6f6jt1kVvl2+yncdBq8XLVEF2wBwKXVIN4Z2ZmJi3bz1tpjRPi70yXC+y/jutL4a3O9QyeG//73vxQWFhIbG4tWq8VkMvHSSy9x5513ApCVZdkjEBISUuNxISEhnDx58pLPO2fOHGbNmnXB7fHx8Xh41H4oV5RxHNDyUKwJQ1U0FRke+JpLyNjyA2/ub0VTTxVwIf63reQddLxRQ0JCgr1DuGLOHDtI/PZUX7EfLVRIL9QyOtLEisM5ZJxaTjNgS4E/27/7hZOZGiqMGjp4lvDrql8u+3lrG39Z2eXXOh06MXzzzTd8+eWXLF68mPbt27Nnzx6mTZtGeHg4EyZMsF2nKDUr+KqqXnBbdTNmzGD69Om2r4uKioiMjGTYsGH4+PhcdnxGo5GEhAQG9e7G50f3MOS63mQXVbJleScGsoWyjP3Mr2pDEy89YGDYtb0cbsSQkJDA0KFD0el09g6nVpw5dpD47am+Y/9pXyYc2M+LE4Zy0779NIvPwKQqTDrSkSJcaOrnBlQwtHdnRnb868LzlcZvnRm5HA6dGB5//HGefPJJ7rjjDgA6dOjAyZMnmTNnDhMmTCA01HKSWlZWFmFh536h2dnZF4wiqnN1dcXV1fWC23U63RW9UK5p2YQIf3deXHGI/RlFPN+0D+Ru4ZHIFK69vjcPf7kTgKIKs0P+EV3pz+0InDl2kPjtqb5iD/PzBOBYbjnRRZaVirl+HZk1oB+hPm5oNQq3v7+FMD/PWsVT2/hrc61DF5/LysrQaGqGqNVqbctVo6OjCQ0NrTGkMhgMbNiwgT59+tRbnFqNwlMjYtmXXkSgp57OA28DQJO5my/W7iS3xEDHpr7MWSUFaCEam57RAQR66rnr460c2bQEgEW5Mfxf/GEKyir5YONxh9jUVp1DjxhuuOEGXnrpJZo1a0b79u3ZvXs3c+fO5b777gMsU0jTpk1j9uzZxMTEEBMTw+zZs/Hw8GDcuHH1Gqu/p6stppu+SOYXfTPaak4RkPU77901kSbebty6YDPbkvPp3TKwXmMTQthPwoEs8koNuFDFde5JoMLgG8axebcbkxftRgEW3GX/TW3VOXRiePvtt3n22WeZPHky2dnZhIeH8/DDD/Pcc8/ZrnniiScoLy9n8uTJFBQU0KtXL+Lj4/H29q7XWK3rlNdM709SRhEufwyDox8xMTyZLVVmCsuNNa4TQjR81Xc83x95Gs+NZRSoXty8tAwzFbjrNHi4ujC0Xai9Q63BoRODt7c38+bNsy1PvRhFUZg5cyYzZ86st7guxrr++FhOCb1bBrL11HVw9CO0yWuZdmgX6tlZO9kFLUTjUb3NdtdjvwJgih7AG527Eux9rr7gaDMJDl1jcCY9owOI8Hfn3XXHWLkvk7vioUzxIFApJvGhYNkFLUQjVL3NdsE+y1LUgI4juLFzU3q3DKRduE+N6xyFJIarRKtReGZUW1YfzGb6d3vo1KwJuphBACQsXyS7oIVohKw7nv/92Rp8Cyw93G6Od7N9ODycZWnd4yg7nq0kMVxFw+PCeGxIDBVGMztOFvBskmXesEXhFu7rE4W/hysPXddSWnEL0QhUb7N9T8gJNIpKmX8sTcKaO1yb7fM5dI3BGUUFWdYsf3pvD/YkecD+j4gzH+WeTfv5eFMKTf3cAccbOgohrp7z22yXf/cOaKGoaX/mjurMfQ7WZvt8MmK4yqxDwoOZRby1o4w0XRQaReWP2xV+nNyHMF/L/VKEFqLhshadJw9sxci4EEZ7HATgsV1BDtlm+3ySGK6yntEBNPVz4621RxnUJpim3ccA4HZyHZ0j/PB1d8FNp+H7nalSZxCigbLOCLRq4sW+HRtwrczF5OLJIxPG8+YdnR2uzfb5JDFcZVqNwu3dI6kwmimqMHLE9xoAjIcTePjzbaw9nMOjg1qRWiB1BiEaKuvMweC5G1i97EsAEirb8cTSw7i6aPB119W4ztFIjaEOWOsM6WfKGb20it2ubnhV5FKRtpv7+lxLbJgvIHUGIRqqglJLW39VVXko7CjkQtv+txGb7s3EL3fRsamvQxadrSQx1AHrp4C37uiC0aSS9lNPYs9spFP5DuZviuTjTSmA1BmEaIhMZpXZvxwiOsiT4twMPKr2ARDUeRQTW3myJ/UM+9ILeXec4xWdrWQqqQ5YN7u9t+E4BaUGPs+JAWBi0xPsf36YbHYTogGbv/YoaQXlJOeW0l+zFw0qieYo2r++j9ve24Lm7JEA/p56O0d6aZIY6sD5m93yw64DwDNnN898tVE2uwnRQFn3LgAserAXr3S0fPA76GWpNT42JIaE6f0Bx55KlsRQR6pvdluVpuOIuSmKasY3azMLxndlZIdwJg1oJZvdhGggrHsXujbzA8Bda8YleT0At95xP0PaBvP9rjSOnHbM3c7VSWKoQ9U3u2laDwVgZtt027rlNqGWDrCO/MlBCHF5rHsXZoxsS4S/O6tXLYfKQvAIRBPRzfZBcM7KQw5deAZJDHXK+onA10NHqz63AFB1OJ5lu1PZcjyPAxlFNa4TQjgv6we8dmE+PDOqLb5p6wDIC7uOEqNKudEEwO5TBTw9sq3DFp5BViXVqeodV2/tFMW1eOBVkcen3/7IHrUVbjoNgV56h/7kIIS4PNYPeIdPFzM8LozigENQBDMPNuWn53+1XTdtiGPudq5ORgx1qHoRetLXiexz7QbAW91O0yPKnwqjmfwSAwkHsuwcqRDi76r+QdCcn4J30TFURcvdd93PvH90pmszPyL83Zg6qJW9Q/1Lkhjq2NB2oQR66nHTafiuOA6A4n0/k1VUwbvjuzC4raxMEqIhsH4QXHMom48++QCAwqAuKB5+/Lwvg92pZ3hmVDuHnkKyksRQx7Yl55NXauDL+3sxbvz9qCi015xk7vVNMJpUro1pIiuThGhAAjz0tCrcBMD7Ga0Y+94W9qSeYcH4rg4/hWQlNYY6Zi1ItQ3zwdM1gIK1nfHP283Sbz9hkWmI7bqEA1kOdbSfEKJ2ViVmMmnRLka09mFA2kEwQdNeN9I1zZddp87YO7xakRFDHatekFqVmMmHp1sD8ESLFJJmXc+cmzsA8OmmFNkFLYSTsu5h6BLpz11hqWhMlag+Edx1wwi+n9iHIU42ZSyJoY5ZC1LvrD3KiysOUtp8MAC+mZtxp5I1h04T4e/GINkFLYTTsrbB2HWqgGO//wjA0tL2rErKQqNRnG4zqySGOnauIJVDWkE5sR2uwewbCVUVzP/kE9YcyuaZUe2YPNC5XjhCCIsabTAe6MldgYcASA26lkmLdrEqMdPpNrNKYqgHw+PCuL9vFAAzlibyRV4sAE1zNnBfnyh83fW0CvYCnOeFI4S4sA2Gf+kJNIWpoHVl6j//aeuHdjDTuTazSmKoJ0PahQLwwpj2uMSOAKCPaScfb0rmzg//YOjcDYDzvHCEEBe2wTiw/jvLHdHXonHzcqo2GNVJYqgn1lrD9ztTeSEpgErFjTAln4OTwvlhYm/MqqW2UFBqsHOkQojLZR3htwnxZmy3SCLzfgPgZGA/SiqrnKoNRnWyXLWeaDUKT42IZfLi3QR5eVEWdi2uqQnk7/mJBWdGkltioGNTX+asOsj1caFO8wISojGrfoSnsTiXqa6HARi3wZ/0Dc7VBqM6GTHUI39PVwAUReHlE1EA5OxcxuHTxbx3V1eeH9NeCtBCOJHqR3guGVqMVlEp829LSDPL4Vwtgjydpg1GdZIY6pF12Llmen/G3nE/AJ01x5lxbaAUoIVwMtYjPDs29SGv1EDezmUAuLQbxVMj2xLkpedEbilPjXCONhjVyVRSPbIOO4/llJCr+HFQaUVb9Rjrfv6S70wDCPZ2rXGdEMJxWQvPb93ZhdyCQtot2Q7ArWv92L9mi+3v2ZGP8LwUGTHUI2sBeuayRCYt2sUR3z4AzGmfLgVoIZxM9cLzMI+jeFCBwT2EB26/ma8evMYpjvC8FEkM9chagN6XXkSgp55W/W4DQDmxjg/XH6xRgJYd0EI4NuvI/oedaSRvsixTdWk3ihu7RNC7ZSDHsktqXOdMJDHUs+oF6NHfF3Fa9UNbVYYudTP3943i1m4RUoAWwgkUlFai1Sg8tzwR9+R4AJ7YH86qxEzMZpUF64851d6F6qTGUM+qF6CTMopI++U6QnKX071yK89vame7TrqtCuG4ViVmMuWr3XQI94GMPYQqBRi1HpwJuYaJX+6iY1Nf9mcUsmB8V6crPIOMGOpd9QJ0YbmBdzLbAHCnz36SZg6TbqtCODhrG4zBscEsndKPuZ0zAEgwxLH6qKX1RVJmEe/c6TznL5xPEkM9O7/bqr7VQFSdJ/qyLNxz90u3VSEcnHU10uSBrdBoFFrlbwQg5trbefOOzswa0x6TWXXK1UhWkhjq2fndVvu3i8TU0tKKe+V3H0q3VSEcnHU6uFUTL3bt3QunE1EVDS363MKNnZtya7eIGtc5I0kMdlCj2+qS/fx7n+WF1K7oN9vxf87WpleIxqJ6G4xl334MwDZTa/q/s5dViZkcziqucZ0zkuKznQxpF8rHm1J4YUx7glyiMf/yAS3UVFqElQE0iBeXEA1R9TYY/252DDKhaa9bic31thWenXU1kpWMGOzEWmvYeDSH4d3bokT1AyBx7WI2H8vl3XVHnf7FJURDY22D0aGpD4aSAjwy/wDAt/MYJvZvSZCXnn3phcwY7jydVC9GRgx2Yq01TFq0i5ve+Z1+Ba14gvWU7f+JcTu7AvDwddFO/eISoqGxFp4rq8z01+zFBRNHzU0Z+vZx4LhTt8GoTkYMdjQ8LoyHro1mX3oRS8o6AdBdOUIb7wo6NvXlg9+SZcmqEA5k9YEsANqHezOrzUkAKlsOIy7cB4Anh1uWnzt7bVASgx2ZzCor9mcxODaY1x8YyRm/9mgUlV+Gl7B0Sl/bsYCyZFUI+zOZVZbttexZePS65gRkWJapxg0ax/Kp/RjSNpiXV1nOe3b22qAkBjuyDkunDGpF31ZB+HW5GYAzu5by074Mro1pIktWhXAQ25LzyS0x4Oeh44el30FlIapnE2jaDY1G4eH+LckuNhDs7er0tUGpMdhR9e6MAL+79KQf4Jn2GzOO/0EZlk8d0h5DCPuzTiOdKTPS2rABXGB5WQfUvZlEBnjyzrpjAIzuGOb0tUFJDHZkHW4ePl1MdlEFk34uZqtnOMFVGey6U2FJRQdmLNnPp5tS6Bkd4LTb64VwdqsSM/l4UwoAc25uz03r9kIFLK3sxrpv9gLYCs9D24XaK8yrRqaS7Oj89hiDY0No0v0WAFyP/SLtMYRwAOd6IzUhwt+d5D0bcK/IRtV789CEfxIX7kOQl464cJ8Gs8RcEoMdnd8eY3BsCOWtRgBQlrSSDYcypD2GEHZ2rhYYwzOj2hKU+isABRED6RAVwrhezcktMbLucA5Pj3Tu/QtWMpVkZ9b2GB9vSmHGkv08jZltrj4EmYt4Lu6MnAUthJ1VrwV2jfSjzHcflMLTh6L55flfbdf9s29Ug5nulcTgAKq3x0jJK+X3XT24SV1D1cEV3Lk/SM6CFsKOrH93BzOL0OUcoFNpKiatK/fc8wDDK7ScKTPy/PKkBlFbsJKpJAdgrTV8vzOVTzenkBo8AIAJ/onMGt2WckMVAHnFlXaMUojGqWd0AIGeeu76eCvrl1ma5q02dODxZcfQaRV+O5rTYGoLVg6fGNLT07nrrrsIDAzEw8ODzp07s3PnTtv9qqoyc+ZMwsPDcXd3Z8CAASQlJdkx4to7/yzo3kNvo0rrjqY4ne9XrKC40gTAv77dw8p9shNaiPqUcCCLvFIDFUYzN7tZ3nuir72DUB83Ji/azZqD2Q2mtmDl0ImhoKCAvn37otPp+OWXXzhw4AD/93//h5+fn+2aV199lblz5zJ//ny2b99OaGgoQ4cOpbi42H6BX4HqZ0Hf9tFuVhk6AnCr+07m/aMTc27ugMmsMmXxLmmTIUQ9sa5IGtI2mIU3+NGs6iRGVctta33ZcbIAd52GAC99g5pGAgdPDK+88gqRkZF8+umn9OzZk6ioKAYPHkzLli0By2hh3rx5PP3009xyyy3ExcWxcOFCysrKWLx4sZ2jrx1rgSt+2nU08XIl0WcAABP89nJT56bc0DkcgPbhPrJ0VYh6Uv20tv7mrQCUNu3L/+7oy1cPXsPC+3qRV2JocCsGHToxLF++nO7duzN27FiCg4Pp0qULH374oe3+5ORksrKyGDZsmO02V1dX+vfvz+bNm+0R8hWzFrh+2pdBTkklw2+5B1zcUPJPwOlE2/kMY7tHytJVIeqJ9QNbYZmRgp0/AODTxXJSW++WgbQ72zyvoa0YdOhVSSdOnGDBggVMnz6dp556im3btvHoo4/i6urKPffcQ1aWZYt6SEhIjceFhIRw8uTJSz5vZWUllZXnCrlFRZYDvI1GI0aj8bLjs15bm8dcSpcIbyL83Ph62ykAokICMbccjObwCk5uXMSzmSMJ8tIzvF0Tnl8OmWdKMRp9/tb3vJrx1zdnjh0kfnuqTezHT1s+kD392S9sdkvErCqMWe3DRF0a17cP4UDaGQACPVzq7Xdxpb/72lyvqKrqsHMSer2e7t271/j0/+ijj7J9+3a2bNnC5s2b6du3LxkZGYSFnVs//OCDD5KamsqqVasu+rwzZ85k1qxZF9y+ePFiPDw8rv4Pcpn25il8ckQDKPyjRRXdK7YwNn8Bx81hDDa8Dij46FSKjApT25mI8XXYfzohnJ7179FFgUmuq/g3X5Dm1oaJyrMkFSjcG2Nme65CZpnCM11MOHrtuaysjHHjxlFYWIiPz59/qHToEUNYWBjt2rWrcVvbtm354QfLkC401FLwycrKqpEYsrOzLxhFVDdjxgymT59u+7qoqIjIyEiGDRv2l7+w6oxGIwkJCQwdOhSdTnfZj7uUkUDn/Vk89v1+vjnhwgq6McbVhZaaTD4Y5o5vsw5M+WovGA207tCFEXF/r+B1teOvT84cO0j89nQ5sZvMKi+8ugE3lyoqqsz0M28HDXxj6MM9wzvwzY50vkoporLKzNv/6MT17S/9fmOP+C/GOjNyORw6MfTt25fDhw/XuO3IkSM0b94cgOjoaEJDQ0lISKBLly4AGAwGNmzYwCuvvHLJ53V1dcXV1fWC23U63RW9yK/0cRczpmskGo2WqV/vRnH14XSTvjTL3UBc0Uae2+RDbqmBjk19eS3hKKM6RVyVJXJXM/765syxg8RvT38W+7urj5BXaqBHlD/PDgyiw1eW96Hvy7qS+eO55fCPDWnN6M4R9RLv+Wr7u6/NtQ5dfH7sscf4448/mD17NseOHWPx4sV88MEHTJkyBbAs7Zw2bRqzZ89myZIlJCYmcu+99+Lh4cG4cePsHP2VCzy709lNr2VeRlsAinb9wK5TBTw2JIZnRreTArQQdcRkVlm4JQWATyb0oGPxJhRU1PCu/N8DI21N8wCiguw39VyXHDox9OjRgyVLlvDVV18RFxfH//73P+bNm8f48eNt1zzxxBNMmzaNyZMn0717d9LT04mPj8fb29uOkf891hUOa6b3p/V1t2PEhVhNKv5lKbyx+iiPfbOnxnVCiKtnW3I++aWWQu3RnBI4+BMAStsb6NMqiFk3xpFbYrm/obapceipJIDRo0czevToS96vKAozZ85k5syZ9RdUHbO+2L784ySvbciir19XOpRv45ehBSS2GsvsFQdJP1NOSm6ZnSMVouGxfuBq6ufOZ6t30yVtAwpA2zEAxJxtahnoqW9QbTCqc+gRQ2PVMzqApn5uvLX2KIPaBNN+yN0A6I/8ROcIP3zdXXDTafh+Z6psdBPiKrN+MBvfqxn646tQzFWU+7WhxDuKnScLuO+z7QDc0zuqQbXBqE4SgwPSahRu7x5JhdFMUYWRfV79UBUtZO1n6vzvWXMoh5s6h5NaIHUGIa42a1PL1QezeTjQcjrbOzkdiXv+V25dsJmkjEICvfRMHdTKzpHWHUkMDioqyBOA9DPl3PTpQX6rsizbbXZ6NQBfb08DLA2+hBBXT8KBLMoNJk6cOkVUoWV0sMm1H6M7htK1mR/lRjMv3RTXYEcLIInBYVmHs2/d0YXHhrRmlbknAI+EHiBp1vXMubkDAJ9uSpGmekJcJasSM5m0aBddmvnxRsdUdIqJJHNzdpc14ed9WZzKL+O9u7o2mAN5LkUSg4OyDmcXrD/GdztTKW85HFXR4Jm3D/fSNDkPWoir7NzZzsF8cHd3Blb9DoBX17HM+0dnujbzw02naXCdVC9GEoODOv886J7tYzE16wPA55+8zeqD2YztFsnD/VvKngYhrgJrJ9WJ/Vuy8+BR1BMbAYi49i5u6tKUp0e1I62golH8rUlicGDW86ABZizZz8xjMQB0KloPIHsahLiKrH9Dj369m6WLF6BgZq+5Bf0/SmZVYiZtQr1rXNeQSWJwcEPODlvv6B7Jr6YemNDQRXOMA4+15cfJfQjztdQiZE+DEH9PSm4pYNm/8GTkAQACe/2D2FBvJi3axeebk4GGu6mtOkkMDs66p2Hp3nQ6xrZGE9UPAI+jy2RPgxBXicms8u2OVNx0GiJcivHKshzKE9F3HB/c3Z1BbZrw1tpjRPo3rLOdL0USg4M7f0/DqfARAJTt+paHvtjB2sM5PDqolexpEOJv2JacT/qZCqYObIVP8goUVLJ9O1LoGsbu1DMUlldRYTRzW7fIBr1M1UoSgxOovqdhzNpAjKoWj/wDlGceZMH4rtzTJxpoHHOfQtQF69/O4m2nGKX9A4D3czvSaVY8ty7YTFaR5f6G2jTvfJIYnED1PQ3vPTiEvFDLdNKcmKNUVpn5YWdajeuEELVjrS908C6lp8bSYrvtkHuIO3t05x09LK21G8vfmCQGJ2Dd0/DehuP0ig7gdHNLU0Hj3u/419e7eX55ElqNQkGpwc6RCuF8rPUFvVZDt1LLElU1sje3DezF8qn9GBzbhPnrjjea+gJIYnAK5/Y0ZHPTO78zfmMABkVPS00m90QXAtA+zIcpX+2SXdBC1NL8tUdJP1OBwWSme8k6AF5Pb8vS3WmNsr4AkhicxvC4MN65swtJmcWU4E58leXEulanf+X+vlE8OSKWQW2ayC5oIWphVWImb6w+CsD3d0bQVXMMMwrflnVj2jd7G2V9ASQxOBV/T1fLWbRj2lMWcyMAg02/88mmE4z7aCv704tkF7QQl8naAqNrMz8AQtNWAaA078ubDwwnLtyHJt56Xh/bCWg89QWQxOBUrCsnfNx1PHswnHLFg6ZKHgceDODHyX1od7ZQJh1XhfhrO04WkFZQzoyRbYnwd8e493sAlLibbSe15RQbeHXVYSIDGk99ASQxOBXrJ5bZKw9ybWwEbh0sJ0q5H1pC12b+TBlo6Q//875MmU4S4i9kF1cC0CbEmwfbqUQbjmBCw26v6yiprKLcaAJg96kCnh7ZttHUF8AJjvYU5/SMDiDIS092cSWT+rdEMY6FfV/DgaWYr5/D+xuOE+xtuX9bcj69WwbaO2QhHFawtysAg+duYFzZYtDBb6YO3LvwKHDUdt20Ia0bfJvt89V6xHDvvfeycePGuohF/AWtRuHGTuEAvL3uKDtdOqK6B0BpDvM++pg1h7J5amRbQDa7CfFX8kssy7tVs5lJgTsBaDZggq3m0CLIkwh/twZ9Utul1DoxFBcXM2zYMGJiYpg9ezbp6el1EZe4BGtTvaSMYm59fzuLii2rk1qe/pX7+kRRWF4FNK5CmRC1ZVbhlfgjRAd50rTsEG5FKZi0bgT3vJWnRrYlyEvPidxSnhrRrlFNIVnVOjH88MMPpKenM3XqVL777juioqIYMWIE33//PUajsS5iFNVYN7t1bOrLogd6YWp3CwADzX/wxaajstlNiMsQn6aQfqaC5NxSbtRuAmCFoQtxL23itve2oFEsycDfU2/PMO3miorPgYGB/Otf/2L37t1s27aNVq1acffddxMeHs5jjz3G0aNH//pJxBWxbnZbezibV345yKx9vuRrg/BRypgQfAyA5gEeTF4sm92EuJhfk07zS5rlrW/R/d2413cXAPsDhgHw2JAYEqb3BxrvlOzfWpWUmZlJfHw88fHxaLVaRo4cSVJSEu3ateONN964WjGK81Tf7GZGww+VlvOgOxYkAHAitxQ3nYanlybK6iQhqjGZVV5edZgoL8vfRXDuNjSl2eAewIypUxnSNpjvd6Vx5HSx5f5GOiVb68RgNBr54YcfGD16NM2bN+e7777jscceIzMzk4ULFxIfH88XX3zBCy+8UBfxirOsm93u6B7JcpPlyM9R+t0kPdWbHyf3IS7cl7wSA/PXHrNzpEI4jm3J+aSdqeDG5mYi/NzI3vSF5Y72N6PR6Zk0oBWp+eXMWXmo0e1dqK7WiSEsLIwHH3yQ5s2bs23bNnbs2MHEiRPx9va2XXP99dfj5+d3NeMU57EOcX87lktIm16oQW3QmCrxPL6Srs38+eTeHgB8viVFRg1CnGX9uwnzgNs7BdKx+DcADja5vtHvXaiu1vsY3njjDcaOHYub26WHWP7+/iQnJ/+twMSfsw5x08+U8/a4Lign/wFrXoC9X0OXuziaXQJAXqlB9jQIcZZtk+geLdeafsBbX06aGsTIJQbUJb/armuMexeqq/WI4e677/7TpCDqR8/oAAI8dQDENPGCDrdb7kj5HXNBKgvWH6Opv+XfqbEW0IQ4X0GpZbezCvyvheVcZ03H2+nSzDJl1Jj3LlQnLTGclFajMKF3FAD3LdzOzkIvqiL7ACqff/Aaqw9mc2ePSKDxFtCEqM5kVpn9yyHiwn3QGkvwSVsPgF+v8bJ34TySGJzY1EExBHrq2Z9eyK0LNvPUifYA9CldDai8ueYYPm4udGvub99AhXAA25LzSSso57nRsbwUtgUXqjhgbk67+Sdl78J5JDE4Ma1G4aWb46gwmgE46DcQo6KntSad9koKRpNKUUUVveeskT0NotGzTqkWlRvpWPo7AO7dx/PmHZ356sFrGv3eheokMTi5oe1CCfTU46bTsD8Pfq3qCsBd7luYe3tHekT5U2qoYtIi2fAmGrfkHMu5zrO/XEGk4RhVqoZHD8Tg6qKhd8tAjp1dsCFTr5IYnN625HzySg0s/GdPmni5stPXsnvzDvdt3NIpjCdHtKXCaKZLpL+c7iYarTkrDzBvjaUjwy1ayxLVLZrOKJ7BTFq0i5X7M1iw/lij3rtQnSQGJ2cd9pYZTOSUVHLDbXeDRxBKaTacWEebUMv+kutaB8npbqJRWrkvg/c3JhPkpec/w1pxs9YyjbTNexj70gtpEejJ9G/3suZQdqPeu1CdJAYnZx327ks/A0CbsACIuxWA3E0L+ei3EwDEhfkCMn8qGheTWeW55UkATB3Uii6mRJoqeRSpHnyQHQvA8dxSKoxmpg1u3HsXqpPE4OSs3VY3HM4B4PDpYjZ7DQHAM/lXPl69F4AZS/cDMn8qGpdtyfnknj13YebyA2Rt/BSAeK7h4YFtmTYkxnZtVJCHXWJ0RJIYnJy12+quU2dw02l4/Lu9jF9pIFUbibtiYJT2Dx6/vjWqaqktSDtu0Zisrnb++WtjWnKLm6WT6h+u/Xh7/XGiAs8lA/nQdI4khgZgeFwY793VFQ+dluM5pagofFHRD4BpgdvYfeoMuSUGOjb1Zc4qKUCLxsFkVlm2NwOwHONZvOsHFGMpakAL+rZtycDWTXhpxQHb/VJ0PkcSQwMxPC6Mt8dZlqr6uLmwxHQtVaqG0KJ9nElN4v6+UdzaLUIK0KLRsE4j+XnocHXR0Ob0CgDSI2/EoCoMaB1ETonlcLGZN7SXonM1tW6iJxxXbomlD8zv/x1EUkYRJ5b3pnXhJgZXrOaVTU1s1yUcyJKmeqLBs04jnSkz4lGWSW9Xy+jgH1ujSMcFOAjAoNgmjOwoRefqZMTQgFjnSI/llFBYbmBurqX19v3eW0l6fjBzbu4AwKebUmSzm2jQViVm8vGmFADm3NKBjzofQ6OobDG1Ix3LhyQ/d0sTygevbWmvMB2WJIYGxLpC6Z21R3lxxUHUmOtRPQLRl2fjfmoDaw6dJsLfjUGxwbLZTTRYJrPKiysOMji2CRH+7qw9kEnb08sBCOp3L+3CvPF2Uekc6SMb2i5BEkMDYl2htOZQDmkF5QxoG4Gx3W0A7Fo2nzWHsnlmVDsmD7ScUrXjZIGdIxbi6rM2y5syKIZnRrWl5MgGlIIUTDovwvrcwbgeERRXKWw4kicb2i5BEkMDMzwujPv7RgEwY8l+btxk+e+OZZuZ0tMfX3c9rYK9AMgurrRTlELUHesmzlZNvPB11zMjdDsA35T3JO6l33lmuaW2MKF3M9nQdglSfG6AhrQL5eNNKbwwpj0peVEc2hlNLMkU7/iaO7deT7C3K2BZopdn51iFuNqstbbBczdQWZzPNtd1oMCvrkO5v1cUEX5uzFpxiCFtg+0cqeOSEUMDZK01fL8zlU83p7ArYCQAzzXdxawb2lFuqAIgV0YMogGyndKmqvw0IBM3xUi5fyy6yO58vCmFH3ZnEOiq0l3OKbkkSQwNkFaj8NSIWPalFxHoqSd22P2YFRe02fv59ueVFFdaDjz/9w+J7MmT+VXRcFhPaevY1Ie8UgPs+gIATbd7mDigFUFeehIzihjT3Cy1hT8hiaGB8ve0TBcpisItnx1iZVU3AO5138i8f3Rizs0dMJlVPj2i4dek0/YMVYirxlp4vq1bJE92NtDccJRK1YVePwfWOKXNUybR/5QkhgbKWoCLn3YdTbxc+cNvNAC36TZzU/sAbugcDkCEJ7z86xFZuioaBOumtueWJ+G6fzEAGzQ9ubVvhxqntBUZ7RaiU5DE0EBZC3A/7csgp6SSW24bD37NUSqLOLb+C1s77p5BZtIKpE2GcH7VN7W9cmNrJnhtAyAxeAyfbE6hsNxgO6XNR2evKJ2DJIYGylqA/nZ7KgBtQn050vRmAM78/hHzVltOs1qXaXkJyDkNwplZN7UNatOEJl6unPz9G5SKM6i+EUx76CEGxwbz4ooDvLvuGBH+7rT0kRHyn3GqxDBnzhwURWHatGm221RVZebMmYSHh+Pu7s6AAQNISkqyX5AOwrrZLTGjCIDZKw5y164YTGjorjlCjJLGv4e0wt/V8geSkltmz3CF+FustYX9GUXklFTSp2glAB8W92b5vkwGxYaQVlDB2kPZPHl9a6Tu/OecJjFs376dDz74gI4dO9a4/dVXX2Xu3LnMnz+f7du3ExoaytChQykuLrZTpI5jeFwY747rgkaBRdtOka36s9pk6cD6YftEHro2GnctuOk0fL8zVeoMwmlZawvtw71ZMT6MftokzCgsLOvHtG/28tQSy0FV/+wbxfXtQ+wZqlNwisRQUlLC+PHj+fDDD/H3P7f2WFVV5s2bx9NPP80tt9xCXFwcCxcupKysjMWLF9sxYscxsmM4jw6ynFLVIsgDbfd/AhBxahl3f/g7SWcUbugQSqrUGYSTqn7uwiMDY2if+SMASswwXntgNHHhPvi5W5YhDW0Xarc4nYlTLNqaMmUKo0aNYsiQIbz44ou225OTk8nKymLYsGG221xdXenfvz+bN2/m4YcfvujzVVZWUll5bnNXUZFlusVoNGI0Xv5yBeu1tXmMPTQLsBSiK4wmHtriy0bXICIMuYRlJAD9+G6X5Y/q18QMujfzsWOkl89ZfveXIvFfPVvPnrvQxFvP+2sP8H7OIhTA1OUeejT35ZmRbbjjo+008dLTJcLboWK/Elcaf22ud/jE8PXXX7Nr1y62b99+wX1ZWZbhY0hIzaFhSEgIJ0+evORzzpkzh1mzZl1we3x8PB4etT/3NSEhodaPqU8nChVAy9iIUo54K3yb2Z/puh/4j89a+ra+hp258M0JFz7bchJNXjKdAp1nSsnRf/d/ReL/+3bmWl7fnX3KcT+2FkWfT5FLAKsOGsnYtZJf0zSAhnbe5fy66hfb4xwh9r+jtvGXlV1+HdGhE0Nqair/+te/iI+Px83t0uexKkrNSpKqqhfcVt2MGTOYPn267euioiIiIyMZNmwYPj6X/4nZaDSSkJDA0KFD0ekcd/2byayy9I3f2Gf04khJCR5Rt6JmLCGy4hCHDJlku3SmqV8prUO8iM8u5Ynx/Rx+V6iz/O4vReK/eo6vPQ5Hj5OQruUb/VoAPiwfxNvb9QBne4NV8uCIXvSKDnCo2K/ElcZvnRm5HA6dGHbu3El2djbdunWz3WYymdi4cSPz58/n8OHDgGXkEBZ2rktidnb2BaOI6lxdXXF1db3gdp1Od0UvlCt9XH3RAc+MbsfELy0HoXcf2AGT+1Bcjv1KybH1rC+NZMH4rjTxduPWBZvZnVbsNCe8Ofrv/q9I/H/PqsRM3lp3HDedhuHBZ+iVdwhV0XIg9EZIh2lDWrE/rZAj2SX0bhVc4wOPvWP/u2obf22udeji8+DBg9m/fz979uyx/a979+6MHz+ePXv20KJFC0JDQ2sMqQwGAxs2bKBPnz52jNzxnN+O+8EDltVdg4wbub9nyHntuGVPg3B85w7kCWbidS3pfHoJAGcih/DGAyPo3tyf9zacYO3hHDl3oZYcesTg7e1NXFxcjds8PT0JDAy03T5t2jRmz55NTEwMMTExzJ49Gw8PD8aNG2ePkB1a9XbcJ3MjSd+1kKZKNoU7vuHOrQNsRx1ad00L4cisexcqq8xsOpTKNtffAHj0WBd+mxVvu+6xIa3l3IVacugRw+V44oknmDZtGpMnT6Z79+6kp6cTHx+Pt7e3vUNzONXbcX+yJZV4d0s77ru0qwE4U25ZtbD2kDTVE46v+t6FVUNy8FHKqPBuRlnTfgBMGWg5yzkqqPYLSho7p0sM69evZ968ebavFUVh5syZZGZmUlFRwYYNGy4YZQiL6u24vVxdeLvgGgzo6KQ5wT+jcgHwdnPhw9+SWbkv087RCnFp1fcudIrwI/DgIgDcet3Hd5P6MaRtMN/tsLSDkRFw7TldYhB/j7Udd2llFfn48JOpFwA9c5bw3l1d+eTeHgDM/ClJdkILhzV/7VFySwwArFkbj3feXoy4sNZtKBqNwsP9W5JdbCDY25We0QF2jtb5SGJoZKyFZbMKM0fHkhc2GIDhbCZQKSE5t/TsdZWyE1o4pFWJmbxxtgnk8PYh3OtiqSf84daP+74/ybvrjvLOumMAjO4YJkXnKyCJoZGpPqy+qXM4IeEtOOPbDsVUScLi/+OJ7/fZ7k84O4crhKMwmVWeXpKITmt5s9+WdJQbNFsAmFs4EIBXfz3CgbPNI6UFxpWRxNDI9IwOIMjLsvHncFYxe/M1zM61FOv+7f87A1sH4O9hWaz26aYUViVKrUE4jvlrj5JXaqBThC/B3q48FboVV8VIsr41u9VWjO5oSQRN/dyJDHCXaaQrJImhkdFqFF4Y0x6AyYv38H2yhvyo0VTpfXEtSUU9tgYvVx1BXjoGtmnCSysPSq1BOASTWWXhlhQAPr23J/+7oQ19CpZZ7uz5EANaN+GPs9Ofe1LPyN6Fv0ESQyM0smM4D18XTV6ZkSKjwurjJXxa1heAe7QJpBaUk1tiJDGjiNR86boqHMO25HzySy1LqpfsTsc/dTXhSj4F+HD96iasP5JLbrGlID1N9i78LZIYGqkZI9sx4ZpI29dfmoZgVhUGaffw/ghfXrixPYFnp5x+TZLpJGF/1oUTWo3Cc8uTMG99H4Bl2mFMGdKOl2/pAECAh46pg1rZLc6GQBJDIza0naWflJ+7Du+w1pyJsBTvije+w3PLkjiYaTns6PMtJ2Vfg7C7lLMr5qICPWirnOIazUHMipa9ITfzxuqjfHj2HPMJfaJlCulvksTQiHVv7o+3TuVMuZFZY9pzrMXdAIw2r2XpP9szoE0Q/h4umFWYsniXFKKF3ZjMKt/uSMVNpyEq0JP32+wE4Jeqbiw5YUkCJ3JKCfTUy2jhKpDE0IhpNQpdz5698NbaI0zd4k2qLgo3tYIjv77LhiO5PH+DpVDdPtxHCtHCbrYl55N+poJHB8Ww8/AJQk4uByBs6L+YNiSG1iFeqMA9vaNktHAVSGJo5DoEWN7o96QWkV1i4O2yoQBcW/Ajjw2KJiXPcrjHrd0ipBAt7MZaX2gb5sNrLfbiqlZy0NyMW1bCvNVHKTOYAOmLdLU4dHdVUfda+qhE+Lnh66GnsNxIrxseomz1d4RV5ZC07ht+NfcEsM3fSktuYQ/W+sKDn21ho+tXoMB3LqO4v0c0Q9qFotUo3P7+FumLdJXIiKGR0yjw5PA2JJ3dKboro5KPKwYA8C9PS9fVJ65vQ7ivOwApuZd/PKAQV4O1BYZeq+Fe3z2EK/kY3YLIaHYDn2xOoaCskg82HpcNbVeRJAbB9e1DeHdcFzQKLNp2ii+qhmJQtbQzJrJ4lJ6J/Vvi6+6Cm07D9ztTpc4g6o21BYabToPBZOLG8h8B+MgwhGEdm9GtmT/Tv93LmkPZsqHtKpLEIADLprdHB8UA4BXUlNTw6wFok7KYh77YwdrDOTw6qBWpBVJnEPXH2gKjQ1Nf4m/W0kGTQgV6PigbwPRv97HjZAEVRjPTBsuGtqtJEoOwiW7iCUBFlZlpKZajUb2PLSM99QT39YkiNswXkDqDqB/VW2B8MqEHrY8vBEDf7S7eeWAoceE+BHlZTh2UovPVJYlB2FgLd2/d0YWnHhjHKa9O6BUTYyp+4uNNKdz32XZA6gyiflRvgfHj6vVw5BcANL0n06dVELNujCO3xHK/FJ2vLkkMwsZ69Od7G45TUGrghYIhADzovp6F42JpEeSJTqvwxuojstlN1Ln4pHNt37VbFwDwu6YHq7K8AIgJtvx/oKdeis5XmSQGYaPVKDwzqi2rD2Yz/bs9FDYdRJFXC1yMxfz+zeucyC3FaFJx02l4emmiFKFFnZmz8gCfbk4BwJ8ibtNuBOBH/Y1M/HIX7647ahvByqa2q08Sg6hheFwYjw2JocJoZvupQv5nHTXoVvHm2Lb8OLkPceG+5JUYmL/2mJ2jFQ3Ryn0ZvL8xmUBPHcHerjwT8gduipEkNZofz0QDlsN4EjMKCfSSFhh1QRKDuEBUkKUIHeSl52jwCCrdQwgmn/Z5CaTmlzFpQEsAPt+SIqMGcVWZzCrPLU8C4IO7u/PiqBb0P2NZoup67SN0ivDFU29526owmnnppjgZLdQB2fksLmAt5OWWGPjgnj6kbL+bNvtfx/T7W0wzhKOe/TyRV2pgW3I+vVsG2jNc0YBsS84nt8RypkJsmA+ep78HpYhMpQnDVwdRRZHt2vv6RskS1ToiIwZxgZ7RAQR4WpYBnswtZeyOWMoVD9po0ki6S0OPKH/cdJaXjpwLLa6m6kuhD2fmw+a3AQgZ/gRfPNiPV2/raLtfznOuO5IYxAW0GoUJvaMA+O+P+2ndrCmaHvcBkPrzy+w4WcAjAy3TST/vy5TpJHHVBHm5AuCh1/LL4vlQeArVswmarnfTu2Ug0WenOYO9XWUlUh2SxCAuauqgGHzcXDBUmdlxsoDrNsZiULW0qdjHousVdqcWEuytJ7u4UnZCi6tiVWImjyzeBUC5wcjYiu8BeKt0CEsT89iRks+kLy3nMMy8ob3UFuqQJAZxUVqNwthuEQB0ivDjziG9yG1xEwC6zfNYfTCbsd0tR4PKTmjxd61KzGTil7vILzPSsoknQzW7aK1Jp1h156OKwUz7Zi+3vbeF3BIDD18XzciOUluoS5IYxCUNOTuHm1FYzrzVRxl/qA9mVaGHYSvtlBTeWXccsJycJcSVMplV/vfzAdx0GgbHBpMw7TpeDV0DwBemoRRjaXehUWD+HV2YMbKdPcNtFCQxiEuy7oTu2NSXaYNjSFHDWKfrB8AUl6W2695cc5Q5Kw/YKUrh7Kyns1UYzfRv3YQta5fil78X1cWNnnc8zbQhluaOZhUCvV3tHG3jIIlBXJJ1J/SaQ9m8t/E4LZp48mrpaABGaLfTSknj8etbE+Sl5/2NyazcJ20yRO1Vn4p8bnkSpo1zAViiDiAXXx64tsVFrxV1RxKD+FPVd0IfzynlsBrJL6YeaFBZ2Oo3ujYLYHyv5gA8v1zaZIjaS642Ffl85zKu0+5HVbRsDbuLSYt28fnmZNv90iyvfkhiEH/JuhMa4LEhMTS94VkAQlNXMOOjJby55igAOdImQ9TSyn0ZvLX2qO3rqCTLvoX05jcy577RDGrThDfXHMVNpyHSX05oqy+SGMRfqv4p7YFrW5Dh0Zo1pi5oMfN93Fa+fKCX7f550nlVXKZViZlMXrwbswrjezWjs3KMgdq9VKFh3OFreXPNEdLPVFBZpVJhNPP0KDmhrb5IYhB/qWd0AEFeegCS0gt5ccVBtkb8E4DA4z/y0/otBHtb7u/SzJ+XVh6UKSXxp0xmlRdXHCQu3AeAp0a25cPmljPGf6y6llNqCG+uOcahrGJA2l/UN0kM4i9pNQovjGkPwAOf7yCtoJz+g0dRFN4PxVxFh5RPcXXR0sRbzxPD25CaL8d/ij+3LTmftIJybu9h2QuTun8jTbI2oipaWt7yPLd2bQrAhN6W+pW0v6hfkhjEZRnZMZyHr4umqKIKgPEfbeX+5EEA3K5dj3rmFDnFBv797V5AVo+IP2d9fdzQMZwmXq6U/PoiAGrHf9Ctazdm3RgHwM6TBUQGSG2hvkliEJdtxsh2TBscY/t6uxrLRlMH9IqJRTEb+HFyH8J8LfUIOf5T/BlrT6T+r62jaWkS3Y07qVI13JrUm6W701i+JwOApIwinh4ptYX6JolB1Mojg2No6ueGXquhfbgPvqNmAtAsdRnkHqPcWIVOq/DdjlNSZxAXVb0nUlFFFf9y+QGAFcp17C4JZNo3e3lqyX60GoV3xnWV2oIdSGIQtaLVKNzePRKDyYyHXktVWDcyQweiqCZOLXmOpIxijCaVtDMVsnRVXMDaE6nMaKJlE0+6KEcZqN2LCQ1zK8dwe/cIvF21ALx5e2fpiWQnkhhErVn3NaSfKefWBZu5/+RQAMZot/B8L5hytiX3G7J0VVRjXYnUNdKPCqOZMR3DeCt4OQA/VvXjpBrKtzvScNdbzg+T9hf2I4lB1Jp1X8Mbt3emiZcrmrCOHAkcggaVsF1v2Jrr6bUanl4qu6GFhXUl0tGcEgB2rPuRyMKdGHCh+Jr/2Hoizb6pAyALGOxJEoOoNWtzvVdWHSKnpJKRHcKYnHk9ZjQM125nQlQ+wT6udIjwJU92Q4uz4pMsp/35u+tQMPNu6M8AbPAZw/82lRAVaOmimphZCEj7C3uSxCBqzdpcb9epMwB8uimFiJjO5Le8EYAB6R9yQ4cwJg+wTCl9viVFRg2N3Mp9GSzckgLAqYJyRmi24Z2fSJWLB4MffJXBscHMXnkQgI1HcmWJqp1JYhBXxNpcDyCnpJL1h3O45cB1GFUtA7V7SdqykvsX7gAgr9QgG94aseqtL/w9dAxu7c9s36UAvF0+gvd2nOGe3lFkFxvQazXsTi2QJap2JolBXLGpg2II8NQBcFevSFLVEH7zGQXAl81+JjbYA53W8sf9a5IUoRuj81tfPH9De4KP/4Bf+SnKdX58qYzm1V+PcM8n2wDQu2hYMF6WqNqbJAZxxbQahQm9owD4dmc63Zr702PCyxi0Hrhk7SEmdzVGk2UK6fMtJ+W8hkbIWnC+7ewxsWnZeTztuQyAV8tuIK/KsvLIU29Zovr+Xd0kKTgASQzib5k6KAYfNxcMVWZ2nCygw+t7eKvCMmp4yedHhrT2wd/DBbMKUxbvkuWrjYx1ZdH7Gy0r1Yo3vouXIYcsggjsP5FXb+sIQFSgB5EB7lzTMtBusYpzJDGIv0WrURh79tNgx6a++Li5sD30TgzuwfhUZND8+FeM7GD5BNjUz41nlyViqDLbM2RRj1JyLYfwRPh78NzAYNuRsN/53MPra0+yN7UAgAOZxVJXcCCSGMTfNuRs58uT+WUUVVSxNb2CZ4osK5QecVnKT1stq03SzlSQU2yg78trZeTQCJjMKt/uSEWv1VBmMDEi71N8lHIOKy2Ym90VgEVbU6X1hQOSxCD+Nuu+hgh/dwDuvqYZP5j6c1LbDD+llP+4/4y/h45+rYIAcNNpmLRIppUaurfXHCX9TAUGkxlD5gGCDy8G4PQ1zzJzTAeiz+6gnzqwlbS+cDCSGMTfZt3XkJRRBMDP+zLp1zqYudwFwD/MK5l3vT//Oru8tcJoYlCbYDnQpwGbs/IA89acO7LzGZcv0Soqq0w9uGedK88vT8JoskwptmjieamnEXbi0Ilhzpw59OjRA29vb4KDg7nppps4fPhwjWtUVWXmzJmEh4fj7u7OgAEDSEpKslPEjdfwuDDeHdcFjQIFZUY2HMllWWl7tisdcFWquC7lbd7fcJxgbz05JQaua91EDvRpoFbuy+D9jcn4uFl6Hq0cUU5/7T6qcGFO1Z1E+rvTxFvP62M7AbLD2RE5dGLYsGEDU6ZM4Y8//iAhIYGqqiqGDRtGaWmp7ZpXX32VuXPnMn/+fLZv305oaChDhw6luLjYjpE3TiM7htuWr4b7ugEKUePfRFU0KAeXUXZ4HU+NbAtYppNA+uE0NCazynPLLR/Mpg2NIdhDg/fGmQBor3mYmNiOVFaZyCk28Oqqw7LD2UE5dGJYtWoV9957L+3bt6dTp058+umnnDp1ip07dwKW0cK8efN4+umnueWWW4iLi2PhwoWUlZWxePFiO0ffOA1rbylElxpMAPT4KIvPjYMBeMvvK07lWKabys7eL58WG5ZtyfnklhgAeOGng1xfuYpIUyoFqjcfa2/j3j7RZBdb7t99SnY4OyqHTgznKyy0NNcKCLB8wkhOTiYrK4thw4bZrnF1daV///5s3rzZLjE2dtZCdLdmfjTxciUu3IeyPv/lDN4ElZ0gf8MCAF5ZdYhAL718WmxgrI3yAB69JoBZPpa22m+rt/Himkzu+nir7f5pQ1rLSiQH5WLvAC6XqqpMnz6dfv36ERdnOQ82K8vyIgwJCalxbUhICCdPnrzkc1VWVlJZWWn7uqjI8inWaDRiNBovOybrtbV5jCOpq/ifvL41j3yzl/ZhPiRmFJGYUYTR724erXiX6S7fs9VjAAeL3agwGlixJ40RHWp/0Lv87u3rYvH/sj/L1igPIHTHq2hc8inybsV/Jr7E7s92cyy7hOJKE0GeOh6+trldfv6G+LuvzeMuh6KqqlMsC5kyZQorVqzg999/JyLCsqFq8+bN9O3bl4yMDMLCzn3yePDBB0lNTWXVqlUXfa6ZM2cya9asC25fvHgxHh4edfMDNDJ78xSWpGgoMFimCTSYWa5/hjhNCl9VDWRG1YNnb1eZ0NpM50CneBmKS9ibp/DJEQ2g4KpRuUZ/jE/VmWgUlbGVzxLbsjWVJpVvk10AlX/Kv3m9KysrY9y4cRQWFuLj4/On1zpFYnjkkUdYunQpGzduJDo62nb7iRMnaNmyJbt27aJLly6222+88Ub8/PxYuHDhRZ/vYiOGyMhIcnNz//IXVp3RaCQhIYGhQ4ei0+mu4Cezr7qOf/PxPCZ8tpNHBrYg/Uw5p/as53vXWagobBv0Ld9nBfPdrnQA5t/Rievbh/zFM9Zf7HWtIcWv0brQ99UNFJUbMZpVNJhZpn+GDpoUlnMdj1ZMrPHYga2D+ODurnaKvGH97msTf1FREUFBQZeVGBx6KklVVR555BGWLFnC+vXrayQFgOjoaEJDQ0lISLAlBoPBwIYNG3jllVcu+byurq64ul54bKBOp7uiF8qVPs5R1FX8ZyosBeYHr2vFyLd+Izb2WtKrbqBp6k+4rv4vPxheADRoFXhqaRLD4sLRu9Su7CW/e/vS6XS8uyGZvFIDbUK8OHy6hNXXHqPF9hSKVA9eqLzTdq2Xq5aSShMP9W/lED9zQ/jd1yb+2lzr0MXnKVOm8OWXX7J48WK8vb3JysoiKyuL8vJyABRFYdq0acyePZslS5aQmJjIvffei4eHB+PGjbNz9MK64mjpnnTSCsrp2syfm48Np0zxoLPmBJM81gFgUqGoooruLybIbmgnYzKrtrrChD7NaeNZTuiO1wDwHDGLZs2a43+2NXvzAA9ZnuokHDoxLFiwgMLCQgYMGEBYWJjtf998843tmieeeIJp06YxefJkunfvTnp6OvHx8Xh7e9sxcgHnVih9uz0VgEVbT9Extg0nOj0OwGTzIuK8i9n05EAAyo0maZXhZN5df4L8UktR86klSTxk+AwPtZSj2lbsCbmF6UPbUHD2fmmU5zwcfirpryiKwsyZM5k5c2bdByRqxdoqY+KXuwBIP1POy7d04P5vC/iANnTiMB8FfcuvB64BwGhS6RLpx0srDzK0Xai8gTg4S8HZ0k7b282FG31PcGvhb5hR+E/ZPex9/9zSVI0C8++URnnOwqFHDML5WVtlKGff4+/+ZBunS4zMcZmISdESmrmGzT9/Zrv+eE6JtMpwAiazyrcnNOjOJm9jRSkPFLwBQFLYLfi16oWfu4utUd4jg2KkUZ4TkcQg6tzIjuH8a5ClgV6wtx6AG4cN5j3jaABm6hYyrpMvAE28LIsCEg5kXeSZhKN4Z/1xSqoUmvq54eeh440mPxOlOU2mGsCdySPYcDSPM+VVpBeUE+il59HBMfYOWdSCJAZRLx4ZHEOgp56CMst884wfE3mr6mZOEUqYkk+bpHkAHD97sMv3O9Ok86qDWrkvg/nrTwCQkl9OVPlBhhX9CEDh4NdoGRGKt5vlqE6DycxLN8XJtKCTkcQg6oVWo/DSzXEYTSouZ98kRnWJZobhPgDu1q7m80GV9IjyR69VKKqoYv7aY/YMWVzEqsRMJi/ejbX898XdHfgq5Au0isqPpn4MX+nO3rQiis8uVX5M2l44JUkMot4Mjwvjvbu62jqr/rg7nU3mOJZrh6BRVNpum8GBlAxu72HZ2b5wc7KMGhyIyazy4oqDtA+3bI7ydFHJXPES7meOono2YX3UYzTx1jP7FkvLmgAPHVMHtbJnyOIKSWIQ9Wp4XBjv3929xm1Pld5BmhpEk6osnnJZzJd/WJa35pcZZdTgQLYl55NWUE5agWUfUaQplZtLvwMgvvm/uf26zuQUG1i4ydKnbEKfaJlCclKSGES9u6ZFIAFnNz19PKE7t/dtx3+MlrYJ413WcG/IUdsc9Rurj8i+Bgex+uyCgM6RPjT1ggVu76BTTMSrPXh4V6Stc+qJ3BICvfQyWnBikhhEvdNqFNuBPgvWH+PnfZm4xfRnT1NL+4SJZ+ahVFharOu1Gp5emihTSnZmMqss25sBwMDYEF7zX0a0mkqRxpfA2+fTKcIXT73l7cRoUqXg7OQkMQi7mDrIskppb1oh2cWVrD+cwx3Hh5GshhGqFLAg4Bt83V0I8NSTV2Lgie/3SnKwoz9O5JFbYkBRIOHnb+iTY+k+ML3yIW794jh704ooNZjRKPDuONnI5uwceuezozGZTDV6mhuNRlxcXKioqMBkMtkxsitTX/Hr9Xo0mpqfQayrlKy7or3dXGgZ5EdZz/mYVo6lb9karjW04+fy3gD8sCud9YdzeOnmOHnTqWcr92Xy7+/2AOCrFvN/+vcAWK0bRGXEYDiWT4SfO2lnyrmnd3PZyNYASGK4DKqqkpWVxZkzZy64PTQ0lNTUVBTF+YbN9RW/RqMhOjoavV5f4/bhcWE8NiSGN1Yfpbiiij1pZxiVBtNdxvCoy1Jecf2YAX2v5z+rLQcp5ZUamPTlLhbc1ZXBbYLqLF5xzpyVB3h/Y/LZr1Rm6z4mVCnguBrO1OK7qSi27FDPKLQUpK9vL0mhIZDEcBmsSSE4OBgPDw/bm6jZbKakpAQvL68LPhE7g/qI32w2k5GRQWZmJs2aNbsgAU0dFMPCLSnklxqZfXN75sYf5X3DWEa4HiWmMolu26bT3O9/nDxjon2YN8dzS3lpxUEGxPSrk3jFOSv3ZfD+xmR83FwoqqjiPo/NjDRvowot/zJMxttNj4fWsiT1hZ8OEuztKp1TGwhJDH/BZDLZkkJgYGCN+8xmMwaDATc3N6dNDPURf5MmTcjIyKCqquqCnvDWQvQbq4+ycPNJcksNgMKB3vMI23gL0YYjvNl0GTedGU3bMF+SMotJLShnx8mCOotXWIrNzy1PAqBPy0COH9jJU8onACz1uxdXfVcqMgoorjCyfLdl1djojmFScG4gnO/drJ5Zawpy5OeVs04hXaqOYS1EnzjbDgPgX6ty+J/LIwB0Tl/MYM1Ovt+VZrs//sDpOoxYvL3mKLklBgB+S0rhPd0buJjKSfbpzlsVI9h56gzFVZYkcCKvBICh7Wp/drdwTJIYLpMz1hAcxV/97qq3y7B6emRbIq+5hY+rRgDwf/r3CSPPdv/nf6SyLEX+TerCnJUHmLfm6NmvVF7RfUhLTSanCeDW7Ad4cmR7Przr3FG6LYO85ACeBkYSQyMzYMAApk2bZu8wLmBtz22diXhp5UFejz/CXPVO9pmj8aOEhV7z8dQY8NJr8NBpWJup4a21x2QZ61X08x5LXcH9bNuSKR6rGa39gyq0TKp8FKNbADN/SrK1UddrFfaknZEDeBoYSQz1xGRW2XI8j2V70tlyPM8p3szWr1+PoigXrMaqKyM7hjP/zpqHxOv07rzb5BmK8KJ11WFmaj6hxGCizGgGFN5ed4L+r62T3dFXwcp9GTz6zW4Ayo1muipHmGb6HIBvAyZSGNSF0soqsosNPPCF5TpvNx0Lxsu+hYZGis/1YFViJi+uOGjrMQMQ4e/OM6Payh/UeUZ2DOM9TVf+891eSipNnCk3sirdnWLNI3yue5mxLhupbBJHZZf7+d/Kw4Bld/SkRbvkDepvsHZNtdrxrw64fToNncHEz6ZreCX/OgorSms8pkuAia/+1R83V/35TyecnIwY6tiqxEwmLdpFbKg3P07uQ9Ks6/lxch9iQ73r/Hzj0tJS7rnnHry8vAgLC+P//u//atz/5ZdfMnDgQHx9fQkNDWXcuHFkZ2cDkJKSwsCBlrOY/f39URSFe++91/IzrVpFv3798PPzIzAwkNGjR3P8+PGrFvf5jfa8XV0oa9qPd3UTABh/5n36aA7Y7s8prqBdmA/PLkvEUGW+anE0FtauqVGBlgUWrhhQv7oTL0M2Jd4teJ6HKayouXDgkYEtuLeNKtNHDZQkhjpk/YMbHBvMB3d3p2szfzxdXejazJ8P7u7O4NhgXlp5sM6mlR5//HHWrVvHkiVLiI+PZ/369ezcudN2v8Fg4KmnnmL37t0sXbqU5ORk25t/ZGQkP/zwAwCHDx8mMzOTN998E7AknOnTp7N9+3bWrFmDRqPh5ptvxmy+em/K17QIJMjL8km0uLKKm7tG8H8lQ8lreTOKaiJi7RRaaE6fvd9EUkYROcUG+r68VqaVamn+2qOkFZSTkleGgpn/071Hk6JEzuDFrr4LWHDfAABu6doUgCZeeqYMaGnHiEVdk8RQh6xtiicPbIXmvE9WGo3CpAGt6ux845KSEj7++GNef/11hg4dSocOHVi4cGGNJaP33XcfQ4cOpUWLFlxzzTW89dZb/PLLL5SUlKDVagkIsKwyCQ4OJjQ0FF9fy/Gbt956K7fccgsxMTF07tyZjz/+mP3793PgwIGLxnIltBqFF8a0t32dWVgBKBzu8SJHtTF4m4t4x2Uu3pQB4OdumRUN8XGt85FYQ7JyXyZvrLasQGoV5MlT7ksZrf0Dg6rl4crHuGdpHidyigFISLIk4lljpEFeQyeJoQ5lF1cA0CbE+6L3twn1rnHd1XT8+HEMBgO9e/e23RYQEECbNm1sX+/evZtx48YRHR2Nt7c3AwYMAODUqVN/+dzjxo2jRYsW+Pj4EB0dfVmPq62RHcO5oaNlbfyC9ZapqnGf7eXu0kfJVv1oq0llRZN30WMkxMcdsPxO28u00p+yLoR4ftl+pizeZbs9Lv9XHlS/B+Bdr0fYrbEk5id/TAQsI7eHr4uWXkiNgCSGOhTs7QbA4dPFF73/cFZxjeuuJlX98+mp0tJShg8fjqenJ59//jnbt29nyZIlgGWK6c/ccMMN5OXl8eGHH7J161a2bt16WY+7EvPu6Eqgpx5dtU+oWQTyT8MTlCtuNCvexQKP920bEX/YlU6iTCtd0qrETPq/to47P/yDhVtOYX2V9FAO8aruAwDerRrDFxX9MJjOJVYFmH9HF2aMbFf/QYt6J4mhDvWMDiDC35131x3DfF4dwWxWWbD+WJ1tDGrVqhU6nY4//vjDdltBQQFHjhwB4NChQ+Tm5vL8889z7bXXEhsbays8W11sx3JeXh4HDx7kmWeeYfDgwbRt25aCgrprT2Hd/FalqoT6WBJoqLcrSWoUs1ymYVC1DDZvZnzRh3D2bS7w7CFAMq1Uk3UhhP/ZaTcvV8thSO2UFD7Wv4ZeqeIXUw9+9P0nrjqFGSNibY+d0Kc5ozuH2yVuUf8kMdQhrUbhmVFtWXMom4e+2MHOkwWUVFax82QBD32xgzWHsutsY5CXlxf3338/jz/+OGvWrCExMZF7773X1hOpWbNm6PV6PvjgA06cOMHy5cv53//+V+M5mjdvjqIo/Pzzz+Tk5FBSUoK/vz+BgYF88MEHHDt2jLVr1zJ9+vSrHn91w+PCWDC+K4azCSqruBKAr4s72k5+u9/lF/YNtSxf1Z39GT30WrpE+PLiigNOsW+kLlkXQgxs3YRT+Zapy1u7RdBcyWKh/hV8lHJ20ZYneYRjeeVknKlkzi+HbI+XrqmNiySGOmZ9UzuUVcytCzYT9/yv3LpgM4dPF9f5uvvXXnuN6667jjFjxjBkyBD69etHt27dAEtju08++YRly5YRFxfHyy+/zOuvv17j8U2bNmXWrFk8+eSThISEMHXqVDQaDV9//TU7d+4kLi6Oxx57jNdee63Ofgar4XFhvH1289sjg1ri46ZFq6gcCBzGS8ZxAPj89gL/0K6zJY5tKQXsSi0kraCi0Z8d/ceJPNIKyvnjRB6FFZZpt1Wbd/Olfg5NlEJOuLRgQsW/mTa8o+0xUQHuuLooRPpLu4vGRja41YPhcWEMbRfKtuR8sosrCPZ2o2d0QJ2v7PDy8uKLL77giy++sN32+OOP2/77zjvvZNSoUfj4+NhGEufXJp599lmeffbZGrcNGTLkghVIf1XTuBquaRFIhL87BzOLubd3c95adwKTWeVD0yhuaa2jbfJC5rh8RJWqxaXrOL7ZkUZTXzfSCyt4Y/URYoI9Gdmx8U2HVD9ox7JjHELIZ4XPywQZckg2h3B7yeMU40F6QZntcSn55SjA06Ok3UVjI4mhnmg1Cr1bBv71heKSrFNzkxbtIuOMZRf5mXIjoDDi4DBmumRyr0s8r+vfZ4c+mm+IJL3w3IqvqV/t5i0zjWau3GRW+dfXu/l5X80aSzAFfOX6EkGGTMo8mvKi/n/kZVnqNx/9nmK7LtBTLyfmNVIylSScinVqLrvI8oZfUGY9alVhZtUEsluPQ0Gl684nGatdX2M1k1mFqV/vZs7Kq7ffwlGtSsykx4sJNZKCRoGeAWV87foSLZRM0tQgbij+LwN6dUMFPHSKrXneowNbse3pIZIUGilJDMLpDI8LY8N/+uOtU2kf5s3w9tZzABQOdZvJUu1QtIrKa7oPuEtZybTBrWyP9XZ14f2Nyazc13BXKq3cl8nEL3edHU3BmE6WN/fBwUXMLX2SFkoG6Wogdxmf4bgxiGeXWQ7kKTOqlBvNPHxdNNOvbyPTR42YJAbhlPQuGsZGmzmQVVxjg+A9n+5gWum9fFg1EoDndV9we+lirEtZh7YPsdy+PLFBrlRauS+DqV9ZNq1Zf7zlezNpr6TwZtkMIpRcktVQbq98jhRzcI3H+rnreHec7FUQkhiEE+sUqPL2Pzpxuuj8neMKL1WNJ73zYwCE75nHKy4f4kIVP+5KByCnxMBbtsNoGgZrh1SzCuG+5zZNjg84wlf6/+FhLCDHszW3VT7P+OvPnZndPMCDJt56tj09pFEW58WFJDEIp3Z9+xA2PjGIx4a0Pu8ehYOtJ/Gm68OYVIV/uKznC7fXbL2VAN5cc5RHFu9sECMHQ5WZZ5Yk2g46GterGQCTPNbxQtkL+CjlbDXHMqLwSfLwpfjsklW9VsOpgjL+d2Mcehd5OxAW8koQTk+rUfjXkBjeu6srAR462+0PfL6DNwr783DVfyhVXenNfn72mEkrTbrtmp/2ZdHlhXhW7suwR+hXxarETLq/mEBuqcE2fTQv/gDPu3zOf80fosXMerfB3G2YQW6VZSSxYMMJALzdXOQcC3EBSQyiwRgeF8b2Z4by6CBLsVmvtby897j3Ymbg6+RqAmluTmOp7jmGa7fbHldUUcXkxbudZvRgbYK3ZFca//52DxO/3EVRRZXt/ljPEr51m80/XVYB8KFuPI8bJ2FAV+N5bugYKiuPxEXJPgbRoGg1CtOHtaGyysT7G5MByC0x8F1JIBuUF5mvf4ueykHe073BzubjufPEMNsb5k/7slh9cBUPX9eCRwa3drhVOSazyvy1x1i4JYX80os3LOytSeJ93sWHAkrw4HHjw8QbemIyn7veQ6/l9ds6Sj1BXJKMGBowVVV56KGHCAgIQFEU/Pz8mDZtmr3DqhczRrZj2uCYGrdlq77cZZjBUrebAeiWsYgl+udopaTZrik3mpm35hhxz6/ifz8lOcz53KsSM+n50mreWH3koknBFQNPuyxikW42PqYCTru3ZILLK/xi6lEjfh83F/Y8N0ySgvhTkhgasFWrVvHZZ5/x888/k5mZyZEjR2o0ymvRogULFiywY4R165HBMbZT4IafXaZqUF1oesdcntQ/ST7etNec5Gf908zwTUCLpUmfgiVBfLwphTs//IMeLyXw5uojdksQqxIzz04XGWts2LNqrySz2nsmD7qsQKOofF01gKFFz/LAjUMvuPbV2zpKkVn8JXmFNGDHjx8nLCyMPn36EBoaSnBwMN7eFz80qCGqfgrc5uN5ttt3nzrD10Udub7iZTaYO+KmGHm48lOW6p8lTjnB+W//+aVG3lh9lC4vxNfbKMJaR/hhRyr//WE/vm4uGE0qob6utmum9G7Csy5fsFz/DJHGFHJVHz5rNocnqx6iyKRn0qJzh/D4uOt47y4pMovLIzWGBuree+9l4cKFACiKQvPmzYmKiqJz587MmzePAQMGcPLkSZ566imeeuopoH4a4dW3kR3DeTjtjK3eADB75UEAcvDnXsMTfNzxED2PvkEHTQrL9M+yzX80j2aNIAc/22M0iqVI/fGmFD7elIK/hwuDY0PoG9OEUJ+/3xTRZFZtTRaTc0pZtPUUOSWVF1yXWlCBgpkbNZv599ElaFwsO7hXmK/hOcMEnujQD47sByDIU0dBmRF/Dx2bZwyRkYK4bJIYaktVwXh2LbzZbPlvgxY09fBHp/MA5fLefN58801atmzJBx98wPbt29FqtYwdO9Z2/48//kinTp245557mDJliq27akM0Y2Q7OkX4898f9lJcaapxn4qGhRXX8t/ycJ7VfcEY7RZ6n/mJ9a7xvF91A5+ahlOMB+cPEArKqvh+Vzrfn90wF+Sl58ZO4QyKDQEFcksqL+iiW/3N399Ny5EzCqZ9mZzKr7hkIqhJZYxHEhOrFtFOcxJKoMQzkkkF4/nNbGmXnZRRZLs6t9SIArx4cwdJCqJWJDHUlrEMZlsKdxqo9pmyHjyVAXrPy7rU19cXb29vtFotoaGhF9wfEBCAVqvFy8uL0NDQBp0YAEZ2DOP6uNCLdhvdebKAEvx41PgIxR0m0D7xNTprjjNd9z0PuKxkqW4kb5YMJg/fGo/TKpa2EyqWlU/W0UR1Tf3cuL17JIXlRn7am3nem78WDu7/07j9PXQUllUyXLONiS4/09F8AjRQpHrwoflGrr3pWX77eI/t+s+3nLT9t3RHFVdKEoNoNLQahfnjujIyLrPG6KGk8tzZxh+fCuOE4QXGuGxlquYHWmvSuafqe/7huoyV5p78pB3K2ooY3Fy0VJnVC6bfNAq0CvLkSE4prUO8OJFTyhurz7Xe8HFzobiiiuggD5JzS1G5cATYqokHx3LKCCWPWyp/4063DURyGoByVc8Sl+G8UjqaQrz48PP9aBUwqRDg4UJ+mWU/w7TBrRxyya1wDpIYakvnYfnkDpjNZoqKi/Hx9q6fT9w6j7r/Ho3An40eTuWXAgrLq67hJ3oyVLOTR/TL6aAc52btJm5mEyf1wfxi7skaTU92mFug12qwzlCZVTiSUwrAkdMlNb9v+xBWH8pGBU7klqHBMtrQKNAq2Isjp0sIJY9HfHbifyaevppEtIol8RSoXiw0DePzqmGYtYEUYmlpUWE8NzWWX1ZFkJeeF2+SUYL4eyQx1JainJvOMZtBZ7J87YRTMXq9HpPJ9NcXNkCXGj1UnRs88EC/Fnz4u4b4iu50UJJ5LmwrbfMSaK7JZqLmZybyM/laL3aY27CVWKpCOvJThi/5+KBgedNvG+rFwSxLgliZdLpGDDqMNFOyiVOSGavJwF+/i7aaVEgHtJZrtppj+c7UH0PrG1h+8Gz9wHYGBfi7u1BQXsWIuFDuuqY517QIlFGC+NskMTRizZs3Z/PmzaSnp+Pu7k5QUJC9Q6p31tHD22uOMm/NUZp46SmqqKKyysyHttPMFParLXjG1JHUypvpr9nLcO12Bml2E6CUMEy7k2HanZC/iFlukK96kaUGkqv6cCbPC6NOi1nVoFHM+FKKn1JKCAU0VXLRnB0RUABowKwq7FJj2KLtzg8V3UhRLZ/8/xUeDAeLUBTL+gcrLzcdc27tKCMEcVVJYmjEZs2axUMPPURMTAyVlZUNcrnq5dBqFKYNbU1smDcvrjhIZcnF202cyClBr/fkF0MvEuiFYqwiTkmmp+YQ3TWHaaOk0kyTQ4BSQoBSctHnOF+x6s5RtSmJmjYkatuyprQlefgS7K0nWz0Xx4e/WZbbRgV4kJxnWRX32JAYpg6KkRGCuOokMTRg06ZNq9ECY/369TXuv+aaa/j999/x8fFp8KuSLsfwuDCGtgtlW3I+CQey+HRTCp0jfTmUVYLRZMJoBqPBMuVkVkGn1bHbFMNuUwwfmW/ApII7FUQrWQQphQRSRIBSjItiBlVFBQrx4ozqSZ7qQ4oaRomLL9b+d2E+buRhOVsip7hmcio7+32T88qkjiDqnCQGIarRahR6twykd8tAekYH8OKKg5QbL6zDmFWoNJ0bYbm6aCgzminHjcNEccB8wUNqsNYgqLKsVCqqqCKz2oFD1cdu7i4K/dsE0yrYm94tA6WOIOqcJAYhLuH8EcT5+xC0Cmg1lrVFZcZzmcB03ozc2G4RfLczrcZt1S+p3jK7ugBPHRN6R8l0kah3khiE+BPVRxBPj2pn27mcklvGdztTSSsot13rptNQcTZBuOs0lBvNuGiUGknB21XLbd0jWHcom5N5ZTX2MVztNhtCXKkGkxjeffddXnvtNTIzM2nfvj3z5s3j2muvtXdYogGxJgmrqYNaXXI0UX42QVSd7aWh1yoYTCqtQ33Yn1ZESl45oyLMZCgB7E4tlEKycCgNIjF88803TJs2jXfffZe+ffvy/vvvM2LECA4cOECzZs3sHZ5ooC41mgjydMWsqmxNzuN4Tik7UgpsSWPnyQLb41ekaYnwN0jXU+FwGkRimDt3Lvfffz8PPPAAAPPmzePXX39lwYIFzJkz56p8j8a6lPNqaAy/u/NHEwDXtm4C1GyeF+TpCgqcLizjRNIepv6jH26uenuELMQlOX1iMBgM7Ny5kyeffLLG7cOGDWPz5s0XfUxlZSWVleeG/UVFlh2lRqMRo9F4wfWqqlJSUoKrq+sFt1v/32z+i2UoDqi+4rfukVBV9aK/3ythfZ6r9Xx1rXszH8DH9rXR6EFCmorZVIXR6HzTR872+6/OmWOHK4+/Ntc7fWLIzc3FZDIREhJS4/aQkBCysrIu+pg5c+Ywa9asC26Pj4/Hw+PCfkTe3t5UVlZSUVGBXq9HOa/1dV5e3gWPcSZ1Gb+qquTk5JCfn8/Ro0f/+gG1lJCQcNWfsz5J/PbjzLFD7eMvKyu77GudPjFYnf9mrarqBbdZzZgxg+nTp9u+LioqIjIykmHDhuHj43PB9aqqkp2dbRtZVL+9oqICNze3S34vR1Zf8bu4uNC9e3d0Ot1Ve06j0UhCQgJDhw69qs9bXyR++3Hm2OHK4z///evPOH1iCAoKQqvVXjA6yM7OvmAUYeXq6nrBtBCATqe75C86IiICk8lUYzhmNBrZuHEj1113ndO+wOojfr1eX2c7q//s38wZSPz248yxQ+3jr821Tp8Y9Ho93bp1IyEhgZtvvtl2e0JCAjfeeONV/V5arRatVlvj66qqKtzc3JzyBebs8Qsh6obTJwaA6dOnc/fdd9O9e3d69+7NBx98wKlTp5g4caK9QxNCCKfTIBLDP/7xD/Ly8njhhRfIzMwkLi6OlStX0rx5c3uHJoQQTqdBJAaAyZMnM3nyZHuHIYQQTq/BJIa/w7qevzZVe7AUb8vKyigqKnLKOXpnjt+ZYweJ356cOXa48vit72+Xs+FUEgNQXFwMQGRkpJ0jEUKIulVcXIyvr++fXqOojaFfwV8wm81kZGTg7e1dq/X81v0PqampF93/4OicOX5njh0kfnty5tjhyuNXVZXi4mLCw8P/cvm4jBgAjUZDRETEFT/ex8fHKV9gVs4cvzPHDhK/PTlz7HBl8f/VSMFKznMUQghRgyQGIYQQNUhi+BtcXV15/vnnL9pewxk4c/zOHDtI/PbkzLFD/cQvxWchhBA1yIhBCCFEDZIYhBBC1CCJQQghRA2SGK6SMWPG0KxZM9zc3AgLC+Puu+8mIyPD3mFdlpSUFO6//36io6Nxd3enZcuWPP/88xgMBnuHdtleeukl+vTpg4eHB35+fvYO50+9++67REdH4+bmRrdu3fjtt9/sHdJl27hxIzfccAPh4eEoisLSpUvtHdJlmzNnDj169MDb25vg4GBuuukmDh8+bO+wLsuCBQvo2LGjbe9C7969+eWXX+rs+0liuEoGDhzIt99+y+HDh/nhhx84fvw4t912m73DuiyHDh3CbDbz/vvvk5SUxBtvvMF7773HU089Ze/QLpvBYGDs2LFMmjTJ3qH8qW+++YZp06bx9NNPs3v3bq699lpGjBjBqVOn7B3aZSktLaVTp07Mnz/f3qHU2oYNG5gyZQp//PEHCQkJVFVVMWzYMEpLS+0d2l+KiIjg5ZdfZseOHezYsYNBgwZx4403kpSUVDffUBV1YtmyZaqiKKrBYLB3KFfk1VdfVaOjo+0dRq19+umnqq+vr73DuKSePXuqEydOrHFbbGys+uSTT9opoisHqEuWLLF3GFcsOztbBdQNGzbYO5Qr4u/vr3700Ud18twyYqgD+fn5LFq0iD59+jhl90aAwsJCAgIC7B1Gg2IwGNi5cyfDhg2rcfuwYcPYvHmznaJqvAoLCwGc7nVuMpn4+uuvKS0tpXfv3nXyPSQxXEX//e9/8fT0JDAwkFOnTrFs2TJ7h3RFjh8/zttvvy0n4F1lubm5mEymC84iDwkJueDMclG3VFVl+vTp9OvXj7i4OHuHc1n279+Pl5cXrq6uTJw4kSVLltCuXbs6+V6SGP7EzJkzURTlT/+3Y8cO2/WPP/44u3fvJj4+Hq1Wyz333HNZvc8dJX6AjIwMhg8fztixY3nggQfsFLnFlcTvDM7v4Kuqaq26+oq/b+rUqezbt4+vvvrK3qFctjZt2rBnzx7++OMPJk2axIQJEzhw4ECdfC/prvonpk6dyh133PGn10RFRdn+OygoiKCgIFq3bk3btm2JjIzkjz/+qLPh3l+pbfwZGRkMHDjQdm62vdU2fkcXFBSEVqu9YHSQnZ19wShC1J1HHnmE5cuXs3Hjxr/VVbm+6fV6WrVqBUD37t3Zvn07b775Ju+///5V/16SGP6E9Y3+SlhHCpWVlVczpFqpTfzp6ekMHDiQbt268emnn/5lv/b68Hd+/45Ir9fTrVs3EhISuPnmm223JyQkcOONN9oxssZBVVUeeeQRlixZwvr164mOjrZ3SH+Lqqp19v4iieEq2LZtG9u2baNfv374+/tz4sQJnnvuOVq2bGm30UJtZGRkMGDAAJo1a8brr79OTk6O7b7Q0FA7Rnb5Tp06RX5+PqdOncJkMrFnzx4AWrVqhZeXl32Dq2b69OncfffddO/e3TYyO3XqlNPUc0pKSjh27Jjt6+TkZPbs2UNAQADNmjWzY2R/bcqUKSxevJhly5bh7e1tG7n5+vri7u5u5+j+3FNPPcWIESOIjIykuLiYr7/+mvXr17Nq1aq6+YZ1stapkdm3b586cOBANSAgQHV1dVWjoqLUiRMnqmlpafYO7bJ8+umnKnDR/zmLCRMmXDT+devW2Tu0C7zzzjtq8+bNVb1er3bt2tWplkuuW7fuor/nCRMm2Du0v3Sp1/inn35q79D+0n333Wd7zTRp0kQdPHiwGh8fX2ffT7qrCiGEqMH+E8lCCCEciiQGIYQQNUhiEEIIUYMkBiGEEDVIYhBCCFGDJAYhhBA1SGIQQghRgyQGIYQQNUhiEEIIUYMkBiGEEDVIYhBCCFGDJAYh6klOTg6hoaHMnj3bdtvWrVvR6/XEx8fbMTIhapImekLUo5UrV3LTTTexefNmYmNj6dKlC6NGjWLevHn2Dk0IG0kMQtSzKVOmsHr1anr06MHevXvZvn07bm5u9g5LCBtJDELUs/LycuLi4khNTWXHjh107NjR3iEJUYPUGISoZydOnCAjIwOz2czJkyftHY4QF5ARgxD1yGAw0LNnTzp37kxsbCxz585l//79hISE2Ds0IWwkMQhRjx5//HG+//579u7di5eXFwMHDsTb25uff/7Z3qEJYSNTSULUk/Xr1zNv3jy++OILfHx80Gg0fPHFF/z+++8sWLDA3uEJYSMjBiGEEDXIiEEIIUQNkhiEEELUIIlBCCFEDZIYhBBC1CCJQQghRA2SGIQQQtQgiUEIIUQNkhiEEELUIIlBCCFEDZIYhBBC1CCJQQghRA2SGIQQQtTw/33etamc9r2pAAAAAElFTkSuQmCC\" style=\"float: left; max-height: 300px; width: auto;\"><br></div></details>"
   ]
  },
  {
   "cell_type": "markdown",
   "metadata": {
    "id": "izHZJV5d774r"
   },
   "source": [
    ">Make sure to clear your variables before moving on to the next question by running the following code block"
   ]
  },
  {
   "cell_type": "code",
   "execution_count": 12,
   "metadata": {
    "execution": {
     "iopub.execute_input": "2023-09-04T08:18:15.854845Z",
     "iopub.status.busy": "2023-09-04T08:18:15.851987Z",
     "iopub.status.idle": "2023-09-04T08:18:16.175523Z",
     "shell.execute_reply": "2023-09-04T08:18:16.174394Z"
    },
    "id": "ow0QELaQ774t"
   },
   "outputs": [],
   "source": [
    "%reset -f"
   ]
  },
  {
   "cell_type": "markdown",
   "metadata": {
    "id": "hxd3liIEX3zJ"
   },
   "source": [
    "## 3. Integrating with <code  style=\"background-color: #f5f5f5; padding: 1px; font-family: monospace;\"><a href=\"https://numpy.org/doc/stable/reference/generated/numpy.trapz.html\" title=\"numpy.trapz(y, x=None, dx=1.0, axis=-1)\">numpy.trapz</a></code>\n",
    "\n",
    "Trapezoid integration is used to integrate a univariate function given <code  style=\"background-color: #f5f5f5; padding: 1px; font-family: monospace;\">x</code> and <code  style=\"background-color: #f5f5f5; padding: 1px; font-family: monospace;\">y</code> data. An example of this function being used can be seen below:"
   ]
  },
  {
   "cell_type": "code",
   "execution_count": 13,
   "metadata": {
    "colab": {
     "base_uri": "https://localhost:8080/"
    },
    "execution": {
     "iopub.execute_input": "2023-09-04T08:18:16.186339Z",
     "iopub.status.busy": "2023-09-04T08:18:16.182357Z",
     "iopub.status.idle": "2023-09-04T08:18:16.200989Z",
     "shell.execute_reply": "2023-09-04T08:18:16.199651Z"
    },
    "executionInfo": {
     "elapsed": 231,
     "status": "ok",
     "timestamp": 1690708359912,
     "user": {
      "displayName": "p479h",
      "userId": "12658626037121552609"
     },
     "user_tz": -120
    },
    "id": "tHJSpAXzf365",
    "outputId": "26e520bb-4239-4165-b1aa-45c2806a7fb4"
   },
   "outputs": [],
   "source": [
    "import numpy as np\n",
    "\n",
    "# Generate some fake data for demonstration\n",
    "x = np.linspace(0, np.pi, 100)\n",
    "y = np.sin(x)\n",
    "\n",
    "# Calculate the integral using numpy.trapz\n",
    "integral = np.trapz(y, x)\n",
    "real_integral = -np.cos(x.max()) + np.cos(x.min())\n",
    "\n",
    "# Print the result\n",
    "print(\"Integral using numpy.trapz:\", integral)\n",
    "print(\"Integral using algebra:    \", real_integral)\n",
    "print(\"---------------------------\")\n",
    "print(\"Relative error:            \", \"%.4e\"%((integral-real_integral)/real_integral))"
   ]
  },
  {
   "cell_type": "markdown",
   "metadata": {
    "id": "hz-lBMeAgT40"
   },
   "source": [
    "## Exercise 3\n",
    "\n",
    "The error function $erf$ is very important in chemical engineering because it appears in several analtycal solutions to differential equations dealing with flow.\n",
    "$$erf(x) = \\frac{2}{\\sqrt{\\pi}}\\int_0 ^x{\\exp(-t^2)dt}$$\n",
    "\n",
    "**Integrate this equation numerically at $x=2$ using <code  style=\"background-color: #f5f5f5; padding: 1px; font-family: monospace;\">trapz</code> and check if the result is close to the real answer, which you can compute using <code  style=\"background-color: #f5f5f5; padding: 1px; font-family: monospace;\"><a href=\"https://docs.python.org/3/library/math.html\" title=\"math.erf(x)\">math.erf</a></code>.**"
   ]
  },
  {
   "cell_type": "markdown",
   "metadata": {
    "id": "4rRbU5I1oI1K"
   },
   "source": [
    "<b style=\"font-weight: 610;\">a) </b>Start by importing <code  style=\"background-color: #f5f5f5; padding: 1px; font-family: monospace;\"><a href=\"https://numpy.org/doc/\" title=\"NumPy Documentation\">numpy</a></code> and <code  style=\"background-color: #f5f5f5; padding: 1px; font-family: monospace;\"><a href=\"https://docs.python.org/3/library/math.html\">math</a></code>."
   ]
  },
  {
   "cell_type": "code",
   "execution_count": 14,
   "metadata": {
    "execution": {
     "iopub.execute_input": "2023-09-04T08:18:16.212822Z",
     "iopub.status.busy": "2023-09-04T08:18:16.211199Z",
     "iopub.status.idle": "2023-09-04T08:18:16.220440Z",
     "shell.execute_reply": "2023-09-04T08:18:16.218710Z"
    },
    "id": "EA5HVvjzoOH0"
   },
   "outputs": [],
   "source": [
    "# WRITE YOUR CODE HERE"
   ]
  },
  {
   "cell_type": "markdown",
   "metadata": {
    "id": "H_cc_CRJoOZg"
   },
   "source": [
    "<b style=\"font-weight: 610;\">b) </b>Generate <code  style=\"background-color: #f5f5f5; padding: 1px; font-family: monospace;\">100</code> points $t$ between [$0$,$x=2$] and evaluate $\\exp\\left(-t^2\\right)$."
   ]
  },
  {
   "cell_type": "code",
   "execution_count": 15,
   "metadata": {
    "execution": {
     "iopub.execute_input": "2023-09-04T08:18:16.235641Z",
     "iopub.status.busy": "2023-09-04T08:18:16.235166Z",
     "iopub.status.idle": "2023-09-04T08:18:16.243073Z",
     "shell.execute_reply": "2023-09-04T08:18:16.241784Z"
    },
    "id": "NrGkrM22ouxm"
   },
   "outputs": [],
   "source": [
    "# Generating x data and y data\n",
    "# WRITE YOUR CODE HERE"
   ]
  },
  {
   "cell_type": "markdown",
   "metadata": {},
   "source": [
    "<details ><summary  style=\"margin: 0px 0px; color: #3498db; font-size: 13pt;\">Expected solution</summary><div  style=\"background-color: #c7ffec; padding: 5px; font-family: monospace; font-size: 10pt; overflow: auto; border-width: 0px; margin: 5px 0px 5px 0px; white-space: pre-wrap;\"class=\"alert alert-block alert-success\"><code  style=\"background-color: #f5f5f5; padding: 1px; font-family: monospace;\">t.shape</code> = (100,)\n",
    "<code  style=\"background-color: #f5f5f5; padding: 1px; font-family: monospace;\">y.shape</code> = (100,)</div></details>"
   ]
  },
  {
   "cell_type": "markdown",
   "metadata": {
    "id": "K1nf2zrZoywY"
   },
   "source": [
    "<b style=\"font-weight: 610;\">c) </b>Integrate $\\exp\\left(-t^2\\right)$ using <code  style=\"background-color: #f5f5f5; padding: 1px; font-family: monospace;\"><a href=\"https://numpy.org/doc/stable/reference/generated/numpy.trapz.html\" title=\"numpy.trapz(y, x=None, dx=1.0, axis=-1)\">numpy.trapz</a></code> and multiply the result by $\\frac{2}{\\sqrt{\\pi}}$ to obtain $erf(x)$.\n",
    "\n",
    "<div class=\"alert alert-block alert-info\" style=\"background-color: #D6FFFF; border-width: 0px;\">\n",
    "<b>Hint:</b> The function <code  style=\"background-color: #f5f5f5; padding: 1px; font-family: monospace;\"><a href=\"https://numpy.org/doc/stable/reference/generated/numpy.trapz.html\" title=\"numpy.trapz(y, x=None, dx=1.0, axis=-1)\">numpy.trapz</a></code> takes <code  style=\"background-color: #f5f5f5; padding: 1px; font-family: monospace;\">y</code> as the first instead of second argument.\n",
    "</div>"
   ]
  },
  {
   "cell_type": "code",
   "execution_count": 16,
   "metadata": {
    "execution": {
     "iopub.execute_input": "2023-09-04T08:18:16.255821Z",
     "iopub.status.busy": "2023-09-04T08:18:16.255445Z",
     "iopub.status.idle": "2023-09-04T08:18:16.268195Z",
     "shell.execute_reply": "2023-09-04T08:18:16.263858Z"
    },
    "id": "SlFLkGR4l-94"
   },
   "outputs": [],
   "source": [
    "# Performing the integration using np.trapz\n",
    "# WRITE YOUR CODE HERE"
   ]
  },
  {
   "cell_type": "markdown",
   "metadata": {},
   "source": [
    "<details ><summary  style=\"margin: 0px 0px; color: #3498db; font-size: 13pt;\">Expected solution</summary><div  style=\"background-color: #c7ffec; padding: 5px; font-family: monospace; font-size: 10pt; overflow: auto; border-width: 0px; margin: 5px 0px 5px 0px; white-space: pre-wrap;\"class=\"alert alert-block alert-success\"><code  style=\"background-color: #f5f5f5; padding: 1px; font-family: monospace;\">erfx</code> =  0.9953194536623462</div></details>"
   ]
  },
  {
   "cell_type": "markdown",
   "metadata": {
    "id": "pc3hDJt0pK0b"
   },
   "source": [
    "<b style=\"font-weight: 610;\">d) </b>Compare your answer with the one obtained from <code  style=\"background-color: #f5f5f5; padding: 1px; font-family: monospace;\"><a href=\"https://docs.python.org/3/library/math.html\" title=\"math.erf(x)\">math.erf</a></code>."
   ]
  },
  {
   "cell_type": "code",
   "execution_count": 17,
   "metadata": {
    "colab": {
     "base_uri": "https://localhost:8080/"
    },
    "execution": {
     "iopub.execute_input": "2023-09-04T08:18:16.276468Z",
     "iopub.status.busy": "2023-09-04T08:18:16.275701Z",
     "iopub.status.idle": "2023-09-04T08:18:16.289811Z",
     "shell.execute_reply": "2023-09-04T08:18:16.287518Z"
    },
    "executionInfo": {
     "elapsed": 19,
     "status": "ok",
     "timestamp": 1690556446492,
     "user": {
      "displayName": "p479h",
      "userId": "12658626037121552609"
     },
     "user_tz": -120
    },
    "id": "OxR2YysTpRK1",
    "outputId": "3a2ecc39-7f06-4801-c3dc-ccfcdf60900a"
   },
   "outputs": [],
   "source": [
    "# Comparing the trapz answer to the real value\n",
    "# WRITE YOUR CODE HERE"
   ]
  },
  {
   "cell_type": "markdown",
   "metadata": {},
   "source": [
    "<details ><summary  style=\"margin: 0px 0px; color: #3498db; font-size: 13pt;\">Expected solution</summary><div  style=\"background-color: #c7ffec; padding: 5px; font-family: monospace; font-size: 10pt; overflow: auto; border-width: 0px; margin: 5px 0px 5px 0px; white-space: pre-wrap;\"class=\"alert alert-block alert-success\">erf(x):      0.9953194536623462\n",
    "math.erf(x): 0.9953222650189527</div></details>"
   ]
  },
  {
   "cell_type": "markdown",
   "metadata": {
    "id": "q8mRicif7_pg"
   },
   "source": [
    ">Make sure to clear your variables before moving on to the next question by running the following code block"
   ]
  },
  {
   "cell_type": "code",
   "execution_count": 18,
   "metadata": {
    "execution": {
     "iopub.execute_input": "2023-09-04T08:18:16.301792Z",
     "iopub.status.busy": "2023-09-04T08:18:16.300503Z",
     "iopub.status.idle": "2023-09-04T08:18:16.580412Z",
     "shell.execute_reply": "2023-09-04T08:18:16.579156Z"
    },
    "id": "dJaDpdSt7_pj"
   },
   "outputs": [],
   "source": [
    "%reset -f"
   ]
  },
  {
   "cell_type": "markdown",
   "metadata": {
    "id": "Ka2hFyjvX_lh"
   },
   "source": [
    "## 4. Integrating ordinary differential equations using <code  style=\"background-color: #f5f5f5; padding: 1px; font-family: monospace;\"><a href=\"https://docs.scipy.org/doc/scipy/reference/generated/scipy.integrate.odeint.html\" title=\"scipy.integrate.odeint(func, y0, t, args=(), Dfun=None, col_deriv=0, full_output=0, ml=None, mu=None, rtol=None, atol=None, tcrit=None, h0=0.0, hmax=0.0, hmin=0.0, ixpr=0, mxstep=0, mxhnil=0, mxordn=12, mxords=5, printmessg=0, tfirst=False)\">scipy.integrate.odeint</a></code>\n",
    "\n",
    "<code  style=\"background-color: #f5f5f5; padding: 1px; font-family: monospace;\">odeint</code> is a function provided by the <code  style=\"background-color: #f5f5f5; padding: 1px; font-family: monospace;\"><a href=\"https://docs.scipy.org/doc/scipy/tutorial/integrate.html\">scipy.integrate</a></code> module in Python, and it is used for solving ordinary differential equations (ODEs) numerically. It integrates a system of first-order ordinary differential equations in the following form:\n",
    "$$\\frac{\\partial y}{\\partial t} = f(y, t, \\mathrm{args})$$\n",
    "Since $y$ can be a vector, <code  style=\"background-color: #f5f5f5; padding: 1px; font-family: monospace;\">odeint</code> can be used for complex models such as CSTR in series. Below you can find two examples of this function being used. One for a univariate function and another for a vector valued function representing a 5 CSTR in series model."
   ]
  },
  {
   "cell_type": "code",
   "execution_count": 19,
   "metadata": {
    "colab": {
     "base_uri": "https://localhost:8080/",
     "height": 472
    },
    "execution": {
     "iopub.execute_input": "2023-09-04T08:18:16.592563Z",
     "iopub.status.busy": "2023-09-04T08:18:16.588034Z",
     "iopub.status.idle": "2023-09-04T08:18:16.970592Z",
     "shell.execute_reply": "2023-09-04T08:18:16.969608Z"
    },
    "executionInfo": {
     "elapsed": 387,
     "status": "ok",
     "timestamp": 1690556446867,
     "user": {
      "displayName": "p479h",
      "userId": "12658626037121552609"
     },
     "user_tz": -120
    },
    "id": "waxuOgHmiZf2",
    "outputId": "9e55cb55-6f60-43c6-e954-e2393de9946a"
   },
   "outputs": [],
   "source": [
    "import numpy as np\n",
    "from scipy.integrate import odeint\n",
    "import matplotlib.pyplot as plt\n",
    "\n",
    "# Define the ODE function\n",
    "def model(y, t):\n",
    "    dydt = -2 * y\n",
    "    return dydt\n",
    "\n",
    "# Initial condition\n",
    "y0 = 1\n",
    "\n",
    "# Define the t values where we want to solve the ODE\n",
    "t = np.linspace(0, 5, 50)\n",
    "\n",
    "# Solve the ODE using odeint\n",
    "y = odeint(model, y0, t)\n",
    "\n",
    "# Plot the results\n",
    "plt.plot(t, y, \"o\", mfc='none', label='y(t) odeint')\n",
    "plt.plot(t, np.exp(-2*t), label='y(t) analytical')\n",
    "plt.xlabel('t')\n",
    "plt.ylabel('y')\n",
    "plt.title('Solution of dy/dt = -2y with y(0) = 1')\n",
    "plt.legend()\n",
    "plt.grid()\n",
    "plt.show()"
   ]
  },
  {
   "cell_type": "code",
   "execution_count": 20,
   "metadata": {
    "colab": {
     "base_uri": "https://localhost:8080/",
     "height": 472
    },
    "execution": {
     "iopub.execute_input": "2023-09-04T08:18:16.978150Z",
     "iopub.status.busy": "2023-09-04T08:18:16.975911Z",
     "iopub.status.idle": "2023-09-04T08:18:17.306041Z",
     "shell.execute_reply": "2023-09-04T08:18:17.305035Z"
    },
    "executionInfo": {
     "elapsed": 594,
     "status": "ok",
     "timestamp": 1690556447453,
     "user": {
      "displayName": "p479h",
      "userId": "12658626037121552609"
     },
     "user_tz": -120
    },
    "id": "JyzNQjlUj7b7",
    "outputId": "7105b935-c7cc-41f1-d8fe-ccb13daf5099"
   },
   "outputs": [],
   "source": [
    "import numpy as np\n",
    "from scipy.integrate import odeint\n",
    "import matplotlib.pyplot as plt\n",
    "\n",
    "# Define the CSTR in series model\n",
    "def model(C, t, params):\n",
    "    F = params['F']\n",
    "    V = params['V']\n",
    "    Cin = params['Cin']\n",
    "    tau = V/F\n",
    "\n",
    "    dCdt = np.zeros(len(C))\n",
    "    dCdt[0] = 1/tau*(Cin-C[0])\n",
    "    dCdt[1:] = 1/tau*(C[0:-1] - C[1:])\n",
    "    return dCdt\n",
    "\n",
    "# Initial concentration in each CSTR (arbitrary values)\n",
    "C0 = [1, 0, 0, 0, 0]\n",
    "\n",
    "# Define the time values where we want to solve the ODE\n",
    "t = np.linspace(0, 10, 100)\n",
    "\n",
    "# Parameters dictionary for organization\n",
    "params = {\n",
    "    'F': 2.0,    # Volumetric flow rate\n",
    "    'V': 1.0,    # Volume of each CSTR\n",
    "    'Cin': 0.0   # Inlet concentration\n",
    "}\n",
    "\n",
    "# Solve the ODE using odeint\n",
    "C = odeint(model, C0, t, args=(params,))\n",
    "\n",
    "# Plot the results for each CSTR\n",
    "for i in range(5):\n",
    "    plt.plot(t, C[:, i], label='C{}'.format(i + 1))\n",
    "\n",
    "plt.xlabel('Time (t)')\n",
    "plt.ylabel('Concentration (C)')\n",
    "plt.title('CSTRs in Series (No Reaction)')\n",
    "plt.legend()\n",
    "plt.grid(True)\n",
    "plt.show()"
   ]
  },
  {
   "cell_type": "markdown",
   "metadata": {
    "id": "RIKQ3lKb7z6N"
   },
   "source": [
    "## Exercise 4: Simulating a salt injection experiment in a CSTR\n",
    "\n",
    "In this exercise we will simulate a salt injection experiment in a CSTR. For this we start by writing the rate function which must be integrated over time\n",
    "\n",
    "$$\\frac{\\partial c}{\\partial t} = \\frac{1}{\\tau}(c_{in} - c)$$\n",
    "\n",
    "Then we integrate this expression using <code  style=\"background-color: #f5f5f5; padding: 1px; font-family: monospace;\"><a href=\"https://docs.scipy.org/doc/scipy/reference/generated/scipy.integrate.odeint.html\" title=\"scipy.integrate.odeint(func, y0, t, args=(), Dfun=None, col_deriv=0, full_output=0, ml=None, mu=None, rtol=None, atol=None, tcrit=None, h0=0.0, hmax=0.0, hmin=0.0, ixpr=0, mxstep=0, mxhnil=0, mxordn=12, mxords=5, printmessg=0, tfirst=False)\">scipy.integrate.odeint</a></code> using the following conditions:\n",
    "\n",
    "* Time must be linearly spaced between 0 and 10 s\n",
    "* Inlet concentration $c_{in}=0$\n",
    "* Initial concentration $c_0=1 \\mathrm{mol/dm}^3$\n",
    "* Residence time $\\tau=1$s\n",
    "\n",
    "Finally, we will plot the result to confirm that it matches the expected solution:\n",
    "\n",
    "$$c(t) = c_0\\exp\\left(-\\frac{t}{\\tau}\\right)$$\n",
    "\n",
    "<b style=\"font-weight: 610;\">a) </b>Start by importing the required libraries and <code  style=\"background-color: #f5f5f5; padding: 1px; font-family: monospace;\"><a href=\"https://docs.scipy.org/doc/scipy/reference/generated/scipy.integrate.odeint.html\" title=\"scipy.integrate.odeint(func, y0, t, args=(), Dfun=None, col_deriv=0, full_output=0, ml=None, mu=None, rtol=None, atol=None, tcrit=None, h0=0.0, hmax=0.0, hmin=0.0, ixpr=0, mxstep=0, mxhnil=0, mxordn=12, mxords=5, printmessg=0, tfirst=False)\">scipy.integrate.odeint</a></code>"
   ]
  },
  {
   "cell_type": "code",
   "execution_count": 21,
   "metadata": {
    "execution": {
     "iopub.execute_input": "2023-09-04T08:18:17.309690Z",
     "iopub.status.busy": "2023-09-04T08:18:17.309108Z",
     "iopub.status.idle": "2023-09-04T08:18:17.313947Z",
     "shell.execute_reply": "2023-09-04T08:18:17.312983Z"
    },
    "id": "ReIFozIv8BuD"
   },
   "outputs": [],
   "source": [
    "# WRITE YOUR CODE HERE"
   ]
  },
  {
   "cell_type": "markdown",
   "metadata": {
    "id": "pp-VvkUv8Ba3"
   },
   "source": [
    "<b style=\"font-weight: 610;\">b) </b>Furthermore creat a rate funciton in the form <code  style=\"background-color: #f5f5f5; padding: 1px; font-family: monospace;\">dcdt=f(c, t, args)</code> where <code  style=\"background-color: #f5f5f5; padding: 1px; font-family: monospace;\">args</code> is a dictionary with all the parameters that <code  style=\"background-color: #f5f5f5; padding: 1px; font-family: monospace;\">f</code> needs"
   ]
  },
  {
   "cell_type": "code",
   "execution_count": 22,
   "metadata": {
    "execution": {
     "iopub.execute_input": "2023-09-04T08:18:17.317419Z",
     "iopub.status.busy": "2023-09-04T08:18:17.316785Z",
     "iopub.status.idle": "2023-09-04T08:18:17.321913Z",
     "shell.execute_reply": "2023-09-04T08:18:17.320996Z"
    },
    "id": "EY5vP2VZ8Asw"
   },
   "outputs": [],
   "source": [
    "# WRITE YOUR CODE HERE"
   ]
  },
  {
   "cell_type": "markdown",
   "metadata": {
    "id": "_uG633d9IkEj"
   },
   "source": [
    "<b style=\"font-weight: 610;\">c) </b>Now create a dictionary with all the variables required by your rate function except $c$ and $t$, as those are supplied \n",
    "separately"
   ]
  },
  {
   "cell_type": "code",
   "execution_count": 23,
   "metadata": {
    "execution": {
     "iopub.execute_input": "2023-09-04T08:18:17.324916Z",
     "iopub.status.busy": "2023-09-04T08:18:17.324486Z",
     "iopub.status.idle": "2023-09-04T08:18:17.328980Z",
     "shell.execute_reply": "2023-09-04T08:18:17.328180Z"
    },
    "id": "IsWV_rdwIxxu"
   },
   "outputs": [],
   "source": [
    "# WRITE YOUR CODE HERE"
   ]
  },
  {
   "cell_type": "markdown",
   "metadata": {},
   "source": [
    "<details ><summary  style=\"margin: 0px 0px; color: #3498db; font-size: 13pt;\">Expected solution</summary><div  style=\"background-color: #c7ffec; padding: 5px; font-family: monospace; font-size: 10pt; overflow: auto; border-width: 0px; margin: 5px 0px 5px 0px; white-space: pre-wrap;\"class=\"alert alert-block alert-success\"><code  style=\"background-color: #f5f5f5; padding: 1px; font-family: monospace;\">cstr_params=</code> {'tau': 1, 'cin': 0}</div></details>"
   ]
  },
  {
   "cell_type": "markdown",
   "metadata": {
    "id": "RfH_OtY5I5JI"
   },
   "source": [
    "<b style=\"font-weight: 610;\">d) </b>Now integrate the system between 0 and 10s using <code  style=\"background-color: #f5f5f5; padding: 1px; font-family: monospace;\"><a href=\"https://docs.scipy.org/doc/scipy/reference/generated/scipy.integrate.odeint.html\" title=\"scipy.integrate.odeint(func, y0, t, args=(), Dfun=None, col_deriv=0, full_output=0, ml=None, mu=None, rtol=None, atol=None, tcrit=None, h0=0.0, hmax=0.0, hmin=0.0, ixpr=0, mxstep=0, mxhnil=0, mxordn=12, mxords=5, printmessg=0, tfirst=False)\">scipy.integrate.odeint</a></code>"
   ]
  },
  {
   "cell_type": "code",
   "execution_count": 24,
   "metadata": {
    "execution": {
     "iopub.execute_input": "2023-09-04T08:18:17.333189Z",
     "iopub.status.busy": "2023-09-04T08:18:17.332315Z",
     "iopub.status.idle": "2023-09-04T08:18:17.338430Z",
     "shell.execute_reply": "2023-09-04T08:18:17.337461Z"
    },
    "id": "w_ky0D2hJB0g"
   },
   "outputs": [],
   "source": [
    "# WRITE YOUR CODE HERE"
   ]
  },
  {
   "cell_type": "markdown",
   "metadata": {},
   "source": [
    "<details ><summary  style=\"margin: 0px 0px; color: #3498db; font-size: 13pt;\">Expected solution</summary><div  style=\"background-color: #c7ffec; padding: 5px; font-family: monospace; font-size: 10pt; overflow: auto; border-width: 0px; margin: 5px 0px 5px 0px; white-space: pre-wrap;\"class=\"alert alert-block alert-success\"><code  style=\"background-color: #f5f5f5; padding: 1px; font-family: monospace;\">t.shape</code> = (50,)\n",
    "<code  style=\"background-color: #f5f5f5; padding: 1px; font-family: monospace;\">c.shape</code> = (50, 1)</div></details>"
   ]
  },
  {
   "cell_type": "markdown",
   "metadata": {
    "id": "8Nbo_4m9JQYS"
   },
   "source": [
    "<b style=\"font-weight: 610;\">e) </b>Calculate the analytical solution in the same range of times at which <code  style=\"background-color: #f5f5f5; padding: 1px; font-family: monospace;\">odeint</code>"
   ]
  },
  {
   "cell_type": "code",
   "execution_count": 25,
   "metadata": {
    "execution": {
     "iopub.execute_input": "2023-09-04T08:18:17.342146Z",
     "iopub.status.busy": "2023-09-04T08:18:17.341575Z",
     "iopub.status.idle": "2023-09-04T08:18:17.347309Z",
     "shell.execute_reply": "2023-09-04T08:18:17.346240Z"
    },
    "id": "S2hfLXfDJgal"
   },
   "outputs": [],
   "source": [
    "# WRITE YOUR CODE HERE"
   ]
  },
  {
   "cell_type": "markdown",
   "metadata": {},
   "source": [
    "<details ><summary  style=\"margin: 0px 0px; color: #3498db; font-size: 13pt;\">Expected solution</summary><div  style=\"background-color: #c7ffec; padding: 5px; font-family: monospace; font-size: 10pt; overflow: auto; border-width: 0px; margin: 5px 0px 5px 0px; white-space: pre-wrap;\"class=\"alert alert-block alert-success\"><code  style=\"background-color: #f5f5f5; padding: 1px; font-family: monospace;\">c_analytical.shape</code>= (50, 1)</div></details>"
   ]
  },
  {
   "cell_type": "markdown",
   "metadata": {
    "id": "1WbctS7QJgE8"
   },
   "source": [
    "<b style=\"font-weight: 610;\">f) </b>Plot the analytical solution and numeric integral in the same plot to check if everything went as planned"
   ]
  },
  {
   "cell_type": "code",
   "execution_count": 26,
   "metadata": {
    "colab": {
     "base_uri": "https://localhost:8080/",
     "height": 449
    },
    "execution": {
     "iopub.execute_input": "2023-09-04T08:18:17.350654Z",
     "iopub.status.busy": "2023-09-04T08:18:17.350214Z",
     "iopub.status.idle": "2023-09-04T08:18:17.609847Z",
     "shell.execute_reply": "2023-09-04T08:18:17.608840Z"
    },
    "executionInfo": {
     "elapsed": 481,
     "status": "ok",
     "timestamp": 1690556447922,
     "user": {
      "displayName": "p479h",
      "userId": "12658626037121552609"
     },
     "user_tz": -120
    },
    "id": "9O0MkCVUJtrc",
    "outputId": "1706d5be-de8d-4e5d-d0ea-02ae81375f54"
   },
   "outputs": [],
   "source": [
    "plt.plot(t, c, \"o\", mfc='none', label=\"Numeric integral\")\n",
    "plt.plot(t, c_ana, \"-\", label = \"Analytical solution\")\n",
    "plt.xlabel(\"t [s]\")\n",
    "plt.ylabel(\"c [mol/dm3]\")\n",
    "plt.legend()\n",
    "plt.grid()\n",
    "plt.show()"
   ]
  },
  {
   "cell_type": "markdown",
   "metadata": {},
   "source": [
    "<details ><summary  style=\"margin: 0px 0px; color: #3498db; font-size: 13pt;\">Expected solution</summary><div  style=\"background-color: #c7ffec; padding: 5px; font-family: monospace; font-size: 10pt; overflow: auto; border-width: 0px; margin: 5px 0px 5px 0px; white-space: pre-wrap;\"class=\"alert alert-block alert-success\"><img src=\"data:image/png;base64,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\" style=\"float: left; max-height: 300px; width: auto;\"><br></div></details>"
   ]
  },
  {
   "cell_type": "markdown",
   "metadata": {
    "id": "ki8wGEUP8C3G"
   },
   "source": [
    "<b style=\"font-weight: 610;\">g) </b>Why do you think this plot looks exactly the same as the batch reactor with a first order reaction?\n",
    "\n",
    "<br>\n",
    "\n",
    ">Make sure to clear your variables before moving on to the next question by running the following code block"
   ]
  },
  {
   "cell_type": "code",
   "execution_count": 27,
   "metadata": {
    "execution": {
     "iopub.execute_input": "2023-09-04T08:18:17.614006Z",
     "iopub.status.busy": "2023-09-04T08:18:17.613190Z",
     "iopub.status.idle": "2023-09-04T08:18:17.766554Z",
     "shell.execute_reply": "2023-09-04T08:18:17.765163Z"
    },
    "id": "bm7IGIAS8C3J"
   },
   "outputs": [],
   "source": [
    "%reset -f"
   ]
  },
  {
   "cell_type": "markdown",
   "metadata": {
    "id": "b7ISCFlhzCOn"
   },
   "source": [
    "## 5. Loading and manipulating data with <code  style=\"background-color: #f5f5f5; padding: 1px; font-family: monospace;\"><a href=\"https://pandas.pydata.org/\" title=\"Pandas Documentation\">pandas</a></code>\n",
    "\n",
    "Pandas allows you to take data from <code  style=\"background-color: #f5f5f5; padding: 1px; font-family: monospace;\">csv</code> files and manipulate it such that it can be used for purposes such as curve fitting. Below you can find an example of a script which uses pandas to:\n",
    "\n",
    "1. Load data using <code  style=\"background-color: #f5f5f5; padding: 1px; font-family: monospace;\"><a href=\"https://pandas.pydata.org/docs/reference/api/pandas.read_csv.html\" title=\"pandas.read_csv(filepath_or_buffer, *, sep=_NoDefault.no_default, delimiter=None, header='infer', names=_NoDefault.no_default, index_col=None, usecols=None, dtype=None, engine=None, converters=None, true_values=None, false_values=None, skipinitialspace=False, skiprows=None, skipfooter=0, nrows=None, na_values=None, keep_default_na=True, na_filter=True, verbose=False, skip_blank_lines=True, parse_dates=None, infer_datetime_format=_NoDefault.no_default, keep_date_col=False, date_parser=_NoDefault.no_default, date_format=None, dayfirst=False, cache_dates=True, iterator=False, chunksize=None, compression='infer', thousands=None, decimal='.', lineterminator=None, quotechar=''', quoting=0, doublequote=True, escapechar=None, comment=None, encoding=None, encoding_errors='strict', dialect=None, on_bad_lines='error', delim_whitespace=False, low_memory=True, memory_map=False, float_precision=None, storage_options=None, dtype_backend=_NoDefault.no_default)\">pd.read_csv</a></code>\n",
    "1. Visualize the format of the data\n",
    "1. Plot the data"
   ]
  },
  {
   "cell_type": "code",
   "execution_count": 28,
   "metadata": {
    "colab": {
     "base_uri": "https://localhost:8080/",
     "height": 206
    },
    "execution": {
     "iopub.execute_input": "2023-09-04T08:18:17.775546Z",
     "iopub.status.busy": "2023-09-04T08:18:17.775168Z",
     "iopub.status.idle": "2023-09-04T08:18:18.059026Z",
     "shell.execute_reply": "2023-09-04T08:18:18.058187Z"
    },
    "executionInfo": {
     "elapsed": 366,
     "status": "ok",
     "timestamp": 1690556448278,
     "user": {
      "displayName": "p479h",
      "userId": "12658626037121552609"
     },
     "user_tz": -120
    },
    "id": "h8cbWZZpzoSg",
    "outputId": "41e7dda0-608c-4a7f-ad34-7f099c18b429"
   },
   "outputs": [],
   "source": [
    "# Importing pandas\n",
    "import pandas as pd\n",
    "\n",
    "# Loading sample data\n",
    "df = pd.read_csv(\"./live_exp_2022.txt\", delimiter=\"\\t\")\n",
    "\n",
    "# Visualizing data structure\n",
    "df.head()"
   ]
  },
  {
   "cell_type": "code",
   "execution_count": 29,
   "metadata": {
    "colab": {
     "base_uri": "https://localhost:8080/",
     "height": 449
    },
    "execution": {
     "iopub.execute_input": "2023-09-04T08:18:18.062050Z",
     "iopub.status.busy": "2023-09-04T08:18:18.061536Z",
     "iopub.status.idle": "2023-09-04T08:18:18.267249Z",
     "shell.execute_reply": "2023-09-04T08:18:18.266130Z"
    },
    "executionInfo": {
     "elapsed": 558,
     "status": "ok",
     "timestamp": 1690556448827,
     "user": {
      "displayName": "p479h",
      "userId": "12658626037121552609"
     },
     "user_tz": -120
    },
    "id": "CtVN5nAu1Nts",
    "outputId": "f31898cf-437a-4b03-9d4a-ebc8d22e84f8"
   },
   "outputs": [],
   "source": [
    "# importing plotting library\n",
    "import matplotlib.pyplot as plt\n",
    "\n",
    "# Extracting data from the data frame\n",
    "t = df[\"Sample Time\"].values\n",
    "CSTR1 = df[\"AI0\"].values\n",
    "\n",
    "# Plotting the data\n",
    "plt.plot(t, CSTR1, \"-\")\n",
    "plt.xlabel(\"t [s]\")\n",
    "plt.ylabel(\"C [M]\")\n",
    "plt.grid()\n",
    "plt.show()"
   ]
  },
  {
   "cell_type": "markdown",
   "metadata": {
    "id": "2Ks8fFKr2h7D"
   },
   "source": [
    "## Exercise 5: Loading data with pandas and using it to curve fit\n",
    "\n",
    "**In this exercise you will load data from the file <code  style=\"background-color: #f5f5f5; padding: 1px; font-family: monospace;\">curve_fit.txt</code> and you have to try to curve fit it.**\n",
    "\n",
    "<b style=\"font-weight: 610;\">a) </b>Start by importing <code  style=\"background-color: #f5f5f5; padding: 1px; font-family: monospace;\"><a href=\"https://pandas.pydata.org/\" title=\"Pandas Documentation\">pandas</a></code>, <code  style=\"background-color: #f5f5f5; padding: 1px; font-family: monospace;\"><a href=\"https://numpy.org/doc/\" title=\"NumPy Documentation\">numpy</a></code> and <code  style=\"background-color: #f5f5f5; padding: 1px; font-family: monospace;\"><a href=\"https://matplotlib.org/3.5.3/api/_as_gen/matplotlib.pyplot.html\" title=\"Matplotlib Pyplot Documentation\">matplotlib.pyplot</a></code>"
   ]
  },
  {
   "cell_type": "code",
   "execution_count": 31,
   "metadata": {
    "execution": {
     "iopub.execute_input": "2023-09-04T08:18:18.289045Z",
     "iopub.status.busy": "2023-09-04T08:18:18.288323Z",
     "iopub.status.idle": "2023-09-04T08:18:18.293477Z",
     "shell.execute_reply": "2023-09-04T08:18:18.292491Z"
    },
    "id": "7-FJ2bnB3x4u"
   },
   "outputs": [],
   "source": [
    "# WRITE YOUR CODE HERE"
   ]
  },
  {
   "cell_type": "markdown",
   "metadata": {
    "id": "28aH8Mfi3yX6"
   },
   "source": [
    "<b style=\"font-weight: 610;\">b) </b>Now load the data from file <code  style=\"background-color: #f5f5f5; padding: 1px; font-family: monospace;\">curve_fit.txt</code> using <code  style=\"background-color: #f5f5f5; padding: 1px; font-family: monospace;\"><a href=\"https://pandas.pydata.org/docs/reference/api/pandas.read_csv.html\" title=\"pandas.read_csv(filepath_or_buffer, *, sep=_NoDefault.no_default, delimiter=None, header='infer', names=_NoDefault.no_default, index_col=None, usecols=None, dtype=None, engine=None, converters=None, true_values=None, false_values=None, skipinitialspace=False, skiprows=None, skipfooter=0, nrows=None, na_values=None, keep_default_na=True, na_filter=True, verbose=False, skip_blank_lines=True, parse_dates=None, infer_datetime_format=_NoDefault.no_default, keep_date_col=False, date_parser=_NoDefault.no_default, date_format=None, dayfirst=False, cache_dates=True, iterator=False, chunksize=None, compression='infer', thousands=None, decimal='.', lineterminator=None, quotechar=''', quoting=0, doublequote=True, escapechar=None, comment=None, encoding=None, encoding_errors='strict', dialect=None, on_bad_lines='error', delim_whitespace=False, low_memory=True, memory_map=False, float_precision=None, storage_options=None, dtype_backend=_NoDefault.no_default)\">pandas.read_csv</a></code>. If the file does not load properly, the delimiter might be different than a comma, in which canse you can add the keyword argument <code  style=\"background-color: #f5f5f5; padding: 1px; font-family: monospace;\">delimiter=\"your delimiter\"</code>. \n",
    "\n",
    "<div class=\"alert alert-block alert-info\" style=\"background-color: #D6FFFF; border-width: 0px;\">\n",
    "<b>Hint:</b> This data file uses a tab <code>\\\\t</code> as delimiter. The delimiter tells the computer what separates the different cell values.\n",
    "</div>"
   ]
  },
  {
   "cell_type": "code",
   "execution_count": 32,
   "metadata": {
    "execution": {
     "iopub.execute_input": "2023-09-04T08:18:18.298186Z",
     "iopub.status.busy": "2023-09-04T08:18:18.297211Z",
     "iopub.status.idle": "2023-09-04T08:18:18.310608Z",
     "shell.execute_reply": "2023-09-04T08:18:18.309093Z"
    },
    "id": "ni1ehU9i4Jb3"
   },
   "outputs": [],
   "source": [
    "# WRITE YOUR CODE HERE\n",
    "\n",
    "# Extracting data from the data frame\n",
    "x = data[\"x\"].values\n",
    "y = data[\"y\"].values"
   ]
  },
  {
   "cell_type": "markdown",
   "metadata": {},
   "source": [
    "<details ><summary  style=\"margin: 0px 0px; color: #3498db; font-size: 13pt;\">Expected solution</summary><div  style=\"background-color: #c7ffec; padding: 5px; font-family: monospace; font-size: 10pt; overflow: auto; border-width: 0px; margin: 5px 0px 5px 0px; white-space: pre-wrap;\"class=\"alert alert-block alert-success\"><code  style=\"background-color: #f5f5f5; padding: 1px; font-family: monospace;\">x.shape</code>= (100,)\n",
    "<code  style=\"background-color: #f5f5f5; padding: 1px; font-family: monospace;\">y.shape</code>= (100,)</div></details>"
   ]
  },
  {
   "cell_type": "markdown",
   "metadata": {
    "id": "f77byo4A4ShY"
   },
   "source": [
    "<b style=\"font-weight: 610;\">c) </b>Plot the first column against the second to get a feel for the data"
   ]
  },
  {
   "cell_type": "code",
   "execution_count": 33,
   "metadata": {
    "colab": {
     "base_uri": "https://localhost:8080/",
     "height": 449
    },
    "execution": {
     "iopub.execute_input": "2023-09-04T08:18:18.315812Z",
     "iopub.status.busy": "2023-09-04T08:18:18.315115Z",
     "iopub.status.idle": "2023-09-04T08:18:18.498444Z",
     "shell.execute_reply": "2023-09-04T08:18:18.497260Z"
    },
    "executionInfo": {
     "elapsed": 493,
     "status": "ok",
     "timestamp": 1690556449309,
     "user": {
      "displayName": "p479h",
      "userId": "12658626037121552609"
     },
     "user_tz": -120
    },
    "id": "SwDz2_sn4_5Y",
    "outputId": "beb9225c-9582-4e36-c869-16c4bd9ca84c"
   },
   "outputs": [],
   "source": [
    "# WRITE YOUR CODE HERE"
   ]
  },
  {
   "cell_type": "markdown",
   "metadata": {},
   "source": [
    "<details ><summary  style=\"margin: 0px 0px; color: #3498db; font-size: 13pt;\">Expected solution</summary><div  style=\"background-color: #c7ffec; padding: 5px; font-family: monospace; font-size: 10pt; overflow: auto; border-width: 0px; margin: 5px 0px 5px 0px; white-space: pre-wrap;\"class=\"alert alert-block alert-success\"><img src=\"data:image/png;base64,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\" style=\"float: left; max-height: 300px; width: auto;\"><br></div></details>"
   ]
  },
  {
   "cell_type": "markdown",
   "metadata": {
    "id": "eEBTobEL5XpT"
   },
   "source": [
    "<b style=\"font-weight: 610;\">d) </b>Try to fit the data to the equation below using <code  style=\"background-color: #f5f5f5; padding: 1px; font-family: monospace;\"><a href=\"https://docs.scipy.org/doc/scipy/reference/generated/scipy.optimize.curve_fit.html\" title=\"scipy.optimize.curve_fit(f, xdata, ydata, p0=None, sigma=None, absolute_sigma=False, check_finite=None, bounds=(-inf, inf), method=None, jac=None, *, full_output=False, nan_policy=None, **kwargs)\">scipy.optimize.curve_fit</a></code>.\n",
    "\n",
    "$$y = a + bx + c\\exp -x^2$$"
   ]
  },
  {
   "cell_type": "code",
   "execution_count": 34,
   "metadata": {
    "execution": {
     "iopub.execute_input": "2023-09-04T08:18:18.502582Z",
     "iopub.status.busy": "2023-09-04T08:18:18.501770Z",
     "iopub.status.idle": "2023-09-04T08:18:18.509567Z",
     "shell.execute_reply": "2023-09-04T08:18:18.508276Z"
    },
    "id": "aPKp8aXr5xMu"
   },
   "outputs": [],
   "source": [
    "# WRITE YOUR CODE HERE"
   ]
  },
  {
   "cell_type": "markdown",
   "metadata": {},
   "source": [
    "<details ><summary  style=\"margin: 0px 0px; color: #3498db; font-size: 13pt;\">Expected solution</summary><div  style=\"background-color: #c7ffec; padding: 5px; font-family: monospace; font-size: 10pt; overflow: auto; border-width: 0px; margin: 5px 0px 5px 0px; white-space: pre-wrap;\"class=\"alert alert-block alert-success\"><code  style=\"background-color: #f5f5f5; padding: 1px; font-family: monospace;\">afit</code> $\\approx$ 1.9157912822217567\n",
    "<code  style=\"background-color: #f5f5f5; padding: 1px; font-family: monospace;\">bfit</code> $\\approx$ 1.030604774291593\n",
    "<code  style=\"background-color: #f5f5f5; padding: 1px; font-family: monospace;\">cfit</code> $\\approx$ 3.10596228617174</div></details>"
   ]
  },
  {
   "cell_type": "markdown",
   "metadata": {
    "id": "n8-dZiN_5xi2"
   },
   "source": [
    "<b style=\"font-weight: 610;\">e) </b>Confirm that your fit is good by plotting the fitted curve and the original data in the same plot."
   ]
  },
  {
   "cell_type": "code",
   "execution_count": 35,
   "metadata": {
    "colab": {
     "base_uri": "https://localhost:8080/",
     "height": 449
    },
    "execution": {
     "iopub.execute_input": "2023-09-04T08:18:18.514435Z",
     "iopub.status.busy": "2023-09-04T08:18:18.513334Z",
     "iopub.status.idle": "2023-09-04T08:18:18.732886Z",
     "shell.execute_reply": "2023-09-04T08:18:18.732026Z"
    },
    "executionInfo": {
     "elapsed": 616,
     "status": "ok",
     "timestamp": 1690556449918,
     "user": {
      "displayName": "p479h",
      "userId": "12658626037121552609"
     },
     "user_tz": -120
    },
    "id": "0N2aKog56Iov",
    "outputId": "a390434c-e703-4d9c-9bab-cf3858a553e2"
   },
   "outputs": [],
   "source": [
    "# WRITE YOUR CODE HERE"
   ]
  },
  {
   "cell_type": "markdown",
   "metadata": {},
   "source": [
    "<details ><summary  style=\"margin: 0px 0px; color: #3498db; font-size: 13pt;\">Expected solution</summary><div  style=\"background-color: #c7ffec; padding: 5px; font-family: monospace; font-size: 10pt; overflow: auto; border-width: 0px; margin: 5px 0px 5px 0px; white-space: pre-wrap;\"class=\"alert alert-block alert-success\"><img src=\"data:image/png;base64,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\" style=\"float: left; max-height: 300px; width: auto;\"><br></div></details>"
   ]
  },
  {
   "cell_type": "markdown",
   "metadata": {
    "id": "TSRg4Vpf_Bvi"
   },
   "source": [
    ">Make sure to clear your variables before moving on to the next question by running the following code block"
   ]
  },
  {
   "cell_type": "code",
   "execution_count": 36,
   "metadata": {
    "execution": {
     "iopub.execute_input": "2023-09-04T08:18:18.736241Z",
     "iopub.status.busy": "2023-09-04T08:18:18.735871Z",
     "iopub.status.idle": "2023-09-04T08:18:18.866308Z",
     "shell.execute_reply": "2023-09-04T08:18:18.865396Z"
    },
    "id": "6Ls6DZwP_CiI"
   },
   "outputs": [],
   "source": [
    "%reset -f"
   ]
  },
  {
   "cell_type": "markdown",
   "metadata": {},
   "source": [
    "## Exericise 6: Modelling a real system\n",
    "\n",
    "Done live, but you can find an example below:"
   ]
  },
  {
   "cell_type": "code",
   "execution_count": 37,
   "metadata": {
    "execution": {
     "iopub.execute_input": "2023-09-04T08:18:18.869661Z",
     "iopub.status.busy": "2023-09-04T08:18:18.869434Z",
     "iopub.status.idle": "2023-09-04T08:18:19.568319Z",
     "shell.execute_reply": "2023-09-04T08:18:19.567376Z"
    }
   },
   "outputs": [],
   "source": [
    "# WRITE YOUR CODE HERE"
   ]
  },
  {
   "cell_type": "markdown",
   "metadata": {
    "id": "TSRg4Vpf_Bvi"
   },
   "source": [
    ">Make sure to clear your variables before moving on to the next question by running the following code block"
   ]
  },
  {
   "cell_type": "code",
   "execution_count": 38,
   "metadata": {
    "execution": {
     "iopub.execute_input": "2023-09-04T08:18:19.571464Z",
     "iopub.status.busy": "2023-09-04T08:18:19.570918Z",
     "iopub.status.idle": "2023-09-04T08:18:19.683266Z",
     "shell.execute_reply": "2023-09-04T08:18:19.682405Z"
    },
    "id": "6Ls6DZwP_CiI"
   },
   "outputs": [],
   "source": [
    "%reset -f"
   ]
  }
 ],
 "metadata": {
  "colab": {
   "provenance": []
  },
  "kernelspec": {
   "display_name": "Python 3 (ipykernel)",
   "language": "python",
   "name": "python3"
  },
  "language_info": {
   "codemirror_mode": {
    "name": "ipython",
    "version": 3
   },
   "file_extension": ".py",
   "mimetype": "text/x-python",
   "name": "python",
   "nbconvert_exporter": "python",
   "pygments_lexer": "ipython3",
   "version": "3.10.12"
  }
 },
 "nbformat": 4,
 "nbformat_minor": 4
}